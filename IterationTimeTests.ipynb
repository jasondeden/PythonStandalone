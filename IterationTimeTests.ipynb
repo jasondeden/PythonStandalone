{
 "cells": [
  {
   "cell_type": "code",
   "execution_count": 4,
   "id": "32b8f4bd",
   "metadata": {},
   "outputs": [],
   "source": [
    "import numpy as np"
   ]
  },
  {
   "cell_type": "code",
   "execution_count": 5,
   "id": "a4621928",
   "metadata": {},
   "outputs": [],
   "source": [
    "weights = np.random.rand(100)"
   ]
  },
  {
   "cell_type": "code",
   "execution_count": 7,
   "id": "5a8b3d90",
   "metadata": {},
   "outputs": [],
   "source": [
    "data1 = np.random.rand(100)"
   ]
  },
  {
   "cell_type": "code",
   "execution_count": 9,
   "id": "b46a5c27",
   "metadata": {},
   "outputs": [],
   "source": [
    "data100 = np.random.rand(100,100)"
   ]
  },
  {
   "cell_type": "code",
   "execution_count": 39,
   "id": "c855c047",
   "metadata": {},
   "outputs": [
    {
     "name": "stdout",
     "output_type": "stream",
     "text": [
      "CPU times: user 65 µs, sys: 1 µs, total: 66 µs\n",
      "Wall time: 70.8 µs\n"
     ]
    }
   ],
   "source": [
    "%time time1 = data1 @ weights.T"
   ]
  },
  {
   "cell_type": "code",
   "execution_count": 40,
   "id": "ef6dc5cb",
   "metadata": {},
   "outputs": [
    {
     "name": "stdout",
     "output_type": "stream",
     "text": [
      "CPU times: user 141 µs, sys: 1e+03 ns, total: 142 µs\n",
      "Wall time: 147 µs\n"
     ]
    }
   ],
   "source": [
    "%time time2 = data100 @ weights.T"
   ]
  },
  {
   "cell_type": "code",
   "execution_count": 41,
   "id": "27da4b99",
   "metadata": {},
   "outputs": [],
   "source": [
    "def timecheck(data, weights, iterations):\n",
    "    for x in range(0,iterations):\n",
    "        results = data @ weights.T\n",
    "    return results"
   ]
  },
  {
   "cell_type": "code",
   "execution_count": 45,
   "id": "1b6a363e",
   "metadata": {},
   "outputs": [
    {
     "name": "stdout",
     "output_type": "stream",
     "text": [
      "CPU times: user 323 µs, sys: 1 µs, total: 324 µs\n",
      "Wall time: 330 µs\n"
     ]
    },
    {
     "data": {
      "text/plain": [
       "21.889972835028164"
      ]
     },
     "execution_count": 45,
     "metadata": {},
     "output_type": "execute_result"
    }
   ],
   "source": [
    "%time timecheck(data1, weights, 100)"
   ]
  },
  {
   "cell_type": "code",
   "execution_count": 48,
   "id": "aec93cc1",
   "metadata": {},
   "outputs": [
    {
     "name": "stdout",
     "output_type": "stream",
     "text": [
      "CPU times: user 355 µs, sys: 1e+03 ns, total: 356 µs\n",
      "Wall time: 362 µs\n"
     ]
    },
    {
     "data": {
      "text/plain": [
       "array([27.02849383, 25.82825256, 24.19499609, 24.46634941, 25.05751057,\n",
       "       21.9925064 , 26.29185135, 25.23174919, 24.05737083, 25.42853377,\n",
       "       25.90229205, 24.40526693, 25.1786538 , 26.84481636, 25.67046718,\n",
       "       27.5917114 , 25.6176541 , 24.76142701, 25.09498745, 25.76668519,\n",
       "       27.52685948, 25.60835492, 26.30545244, 23.1262604 , 27.3034717 ,\n",
       "       23.74349655, 22.73181687, 26.79448051, 23.82631012, 26.53418288,\n",
       "       23.83791268, 24.01228358, 23.86748894, 27.85625485, 25.42244149,\n",
       "       26.63354695, 25.19571719, 24.09238028, 23.41673948, 25.68525069,\n",
       "       25.8511215 , 26.14093157, 25.00650403, 23.92800089, 22.74987616,\n",
       "       24.50064446, 24.89129705, 26.26121825, 26.37340717, 24.03275036,\n",
       "       25.48925206, 24.76042623, 23.78982287, 25.36918246, 24.8118739 ,\n",
       "       23.9661018 , 26.4635881 , 25.11640349, 28.79386964, 28.46867622,\n",
       "       25.98804498, 24.50126774, 23.69889114, 26.47515179, 24.17658893,\n",
       "       25.4777975 , 23.16228281, 28.39886094, 30.73016896, 25.32310346,\n",
       "       23.62042041, 22.71566633, 24.44730914, 26.75089694, 24.71613961,\n",
       "       25.67613525, 23.63939707, 22.66723453, 25.23287193, 25.14083373,\n",
       "       26.17619357, 23.47251823, 24.32234784, 26.44009676, 27.82348789,\n",
       "       25.90664088, 23.75580666, 27.13413464, 23.24747163, 26.63589731,\n",
       "       24.8863137 , 24.02451959, 24.50805286, 24.20460945, 25.85693169,\n",
       "       24.76038608, 25.72907389, 26.78980677, 26.48835778, 23.56197721])"
      ]
     },
     "execution_count": 48,
     "metadata": {},
     "output_type": "execute_result"
    }
   ],
   "source": [
    "%time timecheck(data100, weights, 30)"
   ]
  },
  {
   "cell_type": "code",
   "execution_count": null,
   "id": "3c79da38",
   "metadata": {},
   "outputs": [],
   "source": []
  }
 ],
 "metadata": {
  "kernelspec": {
   "display_name": "Python [conda env:Py3.7]",
   "language": "python",
   "name": "conda-env-Py3.7-py"
  },
  "language_info": {
   "codemirror_mode": {
    "name": "ipython",
    "version": 3
   },
   "file_extension": ".py",
   "mimetype": "text/x-python",
   "name": "python",
   "nbconvert_exporter": "python",
   "pygments_lexer": "ipython3",
   "version": "3.7.13"
  }
 },
 "nbformat": 4,
 "nbformat_minor": 5
}
