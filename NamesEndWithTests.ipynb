{
 "cells": [
  {
   "cell_type": "code",
   "execution_count": 1,
   "id": "5e047efe",
   "metadata": {},
   "outputs": [],
   "source": [
    "import numpy as np"
   ]
  },
  {
   "cell_type": "code",
   "execution_count": 38,
   "id": "f0ddac54",
   "metadata": {},
   "outputs": [],
   "source": [
    "vowels=np.array(['a','e','i','o','u','y'])"
   ]
  },
  {
   "cell_type": "code",
   "execution_count": 39,
   "id": "81ebea11",
   "metadata": {},
   "outputs": [
    {
     "data": {
      "text/plain": [
       "array(['a', 'e', 'i', 'o', 'u', 'y'], dtype='<U1')"
      ]
     },
     "execution_count": 39,
     "metadata": {},
     "output_type": "execute_result"
    }
   ],
   "source": [
    "vowels"
   ]
  },
  {
   "cell_type": "code",
   "execution_count": 40,
   "id": "b11ab059",
   "metadata": {},
   "outputs": [],
   "source": [
    "names = ['jason','syed']"
   ]
  },
  {
   "cell_type": "code",
   "execution_count": 48,
   "id": "7973ec07",
   "metadata": {},
   "outputs": [
    {
     "data": {
      "text/plain": [
       "array([ True, False])"
      ]
     },
     "execution_count": 48,
     "metadata": {},
     "output_type": "execute_result"
    }
   ],
   "source": [
    "#This will evaluate multiple names, but only one character at a time\n",
    "np.char.endswith(names, 'n')"
   ]
  },
  {
   "cell_type": "code",
   "execution_count": 49,
   "id": "6e74ca4d",
   "metadata": {},
   "outputs": [
    {
     "data": {
      "text/plain": [
       "array([False, False])"
      ]
     },
     "execution_count": 49,
     "metadata": {},
     "output_type": "execute_result"
    }
   ],
   "source": [
    "np.char.endswith(names, 'a')"
   ]
  },
  {
   "cell_type": "code",
   "execution_count": 43,
   "id": "161af3a8",
   "metadata": {},
   "outputs": [],
   "source": [
    "lastchar = [x[-1] for x in names]"
   ]
  },
  {
   "cell_type": "code",
   "execution_count": 44,
   "id": "fc3e6d86",
   "metadata": {},
   "outputs": [
    {
     "data": {
      "text/plain": [
       "array([False, False])"
      ]
     },
     "execution_count": 44,
     "metadata": {},
     "output_type": "execute_result"
    }
   ],
   "source": [
    "np.isin(lastchar,vowels)"
   ]
  },
  {
   "cell_type": "code",
   "execution_count": 45,
   "id": "cea411ff",
   "metadata": {},
   "outputs": [],
   "source": [
    "#do a postivie test make sure eval is working"
   ]
  },
  {
   "cell_type": "code",
   "execution_count": 46,
   "id": "c22a9778",
   "metadata": {},
   "outputs": [],
   "source": [
    "otherletters = np.array(['n','z','g'])"
   ]
  },
  {
   "cell_type": "code",
   "execution_count": 47,
   "id": "3fc68257",
   "metadata": {},
   "outputs": [
    {
     "data": {
      "text/plain": [
       "array([ True, False])"
      ]
     },
     "execution_count": 47,
     "metadata": {},
     "output_type": "execute_result"
    }
   ],
   "source": [
    "np.isin(lastchar,otherletters)"
   ]
  },
  {
   "cell_type": "code",
   "execution_count": null,
   "id": "371fab55",
   "metadata": {},
   "outputs": [],
   "source": []
  }
 ],
 "metadata": {
  "kernelspec": {
   "display_name": "Python 3 (ipykernel)",
   "language": "python",
   "name": "python3"
  },
  "language_info": {
   "codemirror_mode": {
    "name": "ipython",
    "version": 3
   },
   "file_extension": ".py",
   "mimetype": "text/x-python",
   "name": "python",
   "nbconvert_exporter": "python",
   "pygments_lexer": "ipython3",
   "version": "3.9.7"
  }
 },
 "nbformat": 4,
 "nbformat_minor": 5
}
