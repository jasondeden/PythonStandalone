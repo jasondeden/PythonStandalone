{
 "cells": [
  {
   "cell_type": "markdown",
   "id": "3e66f37f-dcf9-418d-9571-844e16fb009b",
   "metadata": {},
   "source": [
    "# Vector Math Basics"
   ]
  },
  {
   "cell_type": "code",
   "execution_count": 1,
   "id": "4bdd1177",
   "metadata": {},
   "outputs": [],
   "source": [
    "import numpy as np"
   ]
  },
  {
   "cell_type": "markdown",
   "id": "963d80b8-79fb-4a42-87bb-9ae1083df102",
   "metadata": {},
   "source": [
    "## Start by creating a simple NumPy array"
   ]
  },
  {
   "cell_type": "code",
   "execution_count": 2,
   "id": "61c2489d",
   "metadata": {},
   "outputs": [],
   "source": [
    "vecA = np.array([1,2])"
   ]
  },
  {
   "cell_type": "code",
   "execution_count": 3,
   "id": "13932f87",
   "metadata": {},
   "outputs": [
    {
     "data": {
      "text/plain": [
       "array([1, 2])"
      ]
     },
     "execution_count": 3,
     "metadata": {},
     "output_type": "execute_result"
    }
   ],
   "source": [
    "vecA"
   ]
  },
  {
   "cell_type": "markdown",
   "id": "1b2a93d8-a0ec-43fb-97dd-b0a5f7ba06f2",
   "metadata": {},
   "source": [
    "## Multiply an array with a scalar = every array element is multiplied by the same number"
   ]
  },
  {
   "cell_type": "code",
   "execution_count": 4,
   "id": "433fec49",
   "metadata": {},
   "outputs": [
    {
     "data": {
      "text/plain": [
       "array([2, 4])"
      ]
     },
     "execution_count": 4,
     "metadata": {},
     "output_type": "execute_result"
    }
   ],
   "source": [
    "vecA*2"
   ]
  },
  {
   "cell_type": "markdown",
   "id": "3af2c2ef-79f8-4ff9-9a37-d6d84629e483",
   "metadata": {},
   "source": [
    "### The \"*\" is equivalent to np.multiply()"
   ]
  },
  {
   "cell_type": "code",
   "execution_count": 5,
   "id": "866dca45-04dd-4efe-9e21-77ab3e0ed72b",
   "metadata": {},
   "outputs": [
    {
     "data": {
      "text/plain": [
       "array([2, 4])"
      ]
     },
     "execution_count": 5,
     "metadata": {},
     "output_type": "execute_result"
    }
   ],
   "source": [
    "np.multiply(vecA, 2)"
   ]
  },
  {
   "cell_type": "markdown",
   "id": "6abe1f78-d30c-4995-9135-120ad831a564",
   "metadata": {},
   "source": [
    "## Create another simple array with the same dimensions"
   ]
  },
  {
   "cell_type": "code",
   "execution_count": 8,
   "id": "b71992c1",
   "metadata": {},
   "outputs": [],
   "source": [
    "vecB = np.array([2, 1])"
   ]
  },
  {
   "cell_type": "code",
   "execution_count": 9,
   "id": "a83bc507",
   "metadata": {},
   "outputs": [
    {
     "data": {
      "text/plain": [
       "array([2, 1])"
      ]
     },
     "execution_count": 9,
     "metadata": {},
     "output_type": "execute_result"
    }
   ],
   "source": [
    "vecB"
   ]
  },
  {
   "cell_type": "code",
   "execution_count": 10,
   "id": "fbbc0f61-edc5-454f-b64a-aa80a958107f",
   "metadata": {},
   "outputs": [
    {
     "data": {
      "text/plain": [
       "(2,)"
      ]
     },
     "execution_count": 10,
     "metadata": {},
     "output_type": "execute_result"
    }
   ],
   "source": [
    "vecA.shape"
   ]
  },
  {
   "cell_type": "code",
   "execution_count": 11,
   "id": "0a8dc206-aca1-4a28-a8b5-008c51d47dd0",
   "metadata": {},
   "outputs": [
    {
     "data": {
      "text/plain": [
       "(2,)"
      ]
     },
     "execution_count": 11,
     "metadata": {},
     "output_type": "execute_result"
    }
   ],
   "source": [
    "vecB.shape"
   ]
  },
  {
   "cell_type": "markdown",
   "id": "c522a2a3-053e-44bc-9b2f-79e4d0150bbb",
   "metadata": {},
   "source": [
    "## Since the two objects have the same shape, we can perform element-wise addition and subtraction\n",
    "\n",
    "### Each array element is added to / subtracted from its counterpart in the other array"
   ]
  },
  {
   "cell_type": "code",
   "execution_count": 7,
   "id": "f96c1cd1",
   "metadata": {},
   "outputs": [
    {
     "data": {
      "text/plain": [
       "array([3, 3])"
      ]
     },
     "execution_count": 7,
     "metadata": {},
     "output_type": "execute_result"
    }
   ],
   "source": [
    "vecA + vecB"
   ]
  },
  {
   "cell_type": "markdown",
   "id": "a3ac79b0-6c1d-4ae2-bad3-e35613ecb5fb",
   "metadata": {},
   "source": [
    "### Both \"+\" and \"-\" have NumPy equivalents"
   ]
  },
  {
   "cell_type": "code",
   "execution_count": 12,
   "id": "e8e15360-62f2-400b-a181-0314f4a6aa8c",
   "metadata": {},
   "outputs": [
    {
     "data": {
      "text/plain": [
       "array([3, 3])"
      ]
     },
     "execution_count": 12,
     "metadata": {},
     "output_type": "execute_result"
    }
   ],
   "source": [
    "np.add(vecA, vecB)"
   ]
  },
  {
   "cell_type": "code",
   "execution_count": 8,
   "id": "783f5238",
   "metadata": {},
   "outputs": [
    {
     "data": {
      "text/plain": [
       "array([-1,  1])"
      ]
     },
     "execution_count": 8,
     "metadata": {},
     "output_type": "execute_result"
    }
   ],
   "source": [
    "vecA - vecB"
   ]
  },
  {
   "cell_type": "code",
   "execution_count": 13,
   "id": "5990c626-606d-4636-9c23-9f26405a0312",
   "metadata": {},
   "outputs": [
    {
     "data": {
      "text/plain": [
       "array([-1,  1])"
      ]
     },
     "execution_count": 13,
     "metadata": {},
     "output_type": "execute_result"
    }
   ],
   "source": [
    "np.subtract(vecA, vecB)"
   ]
  },
  {
   "cell_type": "markdown",
   "id": "5d3da12e-3fcd-40a4-92af-81d04c536b1d",
   "metadata": {},
   "source": [
    "## Create a couple of matrices with different shapes"
   ]
  },
  {
   "cell_type": "code",
   "execution_count": 15,
   "id": "faea2cc2",
   "metadata": {},
   "outputs": [],
   "source": [
    "vecC = np.array([[1, 2],[1,2]])"
   ]
  },
  {
   "cell_type": "code",
   "execution_count": 16,
   "id": "c8162936",
   "metadata": {},
   "outputs": [
    {
     "data": {
      "text/plain": [
       "array([[1, 2],\n",
       "       [1, 2]])"
      ]
     },
     "execution_count": 16,
     "metadata": {},
     "output_type": "execute_result"
    }
   ],
   "source": [
    "vecC"
   ]
  },
  {
   "cell_type": "code",
   "execution_count": 17,
   "id": "a7af9dd7",
   "metadata": {},
   "outputs": [
    {
     "data": {
      "text/plain": [
       "(2, 2)"
      ]
     },
     "execution_count": 17,
     "metadata": {},
     "output_type": "execute_result"
    }
   ],
   "source": [
    "vecC.shape"
   ]
  },
  {
   "cell_type": "code",
   "execution_count": 18,
   "id": "a3569d14",
   "metadata": {},
   "outputs": [],
   "source": [
    "vecD = np.array([[2, 4],[2, 4],[2, 4]])"
   ]
  },
  {
   "cell_type": "code",
   "execution_count": 19,
   "id": "058107d9",
   "metadata": {},
   "outputs": [
    {
     "data": {
      "text/plain": [
       "(3, 2)"
      ]
     },
     "execution_count": 19,
     "metadata": {},
     "output_type": "execute_result"
    }
   ],
   "source": [
    "vecD.shape"
   ]
  },
  {
   "cell_type": "markdown",
   "id": "9a5b1215-1caf-4818-8c41-73672034583e",
   "metadata": {},
   "source": [
    "## For element-wise operations, if shapes to not match, an error is returned"
   ]
  },
  {
   "cell_type": "code",
   "execution_count": 20,
   "id": "712f7275-2b26-448b-8686-362350df7f59",
   "metadata": {},
   "outputs": [
    {
     "ename": "ValueError",
     "evalue": "operands could not be broadcast together with shapes (2,2) (3,2) ",
     "output_type": "error",
     "traceback": [
      "\u001b[0;31m---------------------------------------------------------------------------\u001b[0m",
      "\u001b[0;31mValueError\u001b[0m                                Traceback (most recent call last)",
      "\u001b[0;32m/var/folders/w1/v8x3p_k90rv3gff4rph9wkpc0000gn/T/ipykernel_86011/1372383839.py\u001b[0m in \u001b[0;36m<module>\u001b[0;34m\u001b[0m\n\u001b[0;32m----> 1\u001b[0;31m \u001b[0mvecC\u001b[0m \u001b[0;34m+\u001b[0m \u001b[0mvecD\u001b[0m\u001b[0;34m\u001b[0m\u001b[0;34m\u001b[0m\u001b[0m\n\u001b[0m",
      "\u001b[0;31mValueError\u001b[0m: operands could not be broadcast together with shapes (2,2) (3,2) "
     ]
    }
   ],
   "source": [
    "vecC + vecD"
   ]
  },
  {
   "cell_type": "code",
   "execution_count": 21,
   "id": "c3325d7a-9399-48cb-b9d2-9650e730cac1",
   "metadata": {},
   "outputs": [
    {
     "ename": "ValueError",
     "evalue": "operands could not be broadcast together with shapes (2,2) (3,2) ",
     "output_type": "error",
     "traceback": [
      "\u001b[0;31m---------------------------------------------------------------------------\u001b[0m",
      "\u001b[0;31mValueError\u001b[0m                                Traceback (most recent call last)",
      "\u001b[0;32m/var/folders/w1/v8x3p_k90rv3gff4rph9wkpc0000gn/T/ipykernel_86011/3984055849.py\u001b[0m in \u001b[0;36m<module>\u001b[0;34m\u001b[0m\n\u001b[0;32m----> 1\u001b[0;31m \u001b[0mvecC\u001b[0m \u001b[0;34m*\u001b[0m \u001b[0mvecD\u001b[0m\u001b[0;34m\u001b[0m\u001b[0;34m\u001b[0m\u001b[0m\n\u001b[0m",
      "\u001b[0;31mValueError\u001b[0m: operands could not be broadcast together with shapes (2,2) (3,2) "
     ]
    }
   ],
   "source": [
    "vecC * vecD"
   ]
  },
  {
   "cell_type": "markdown",
   "id": "07c0bc1e-a886-4153-9d99-60ef55af966e",
   "metadata": {},
   "source": [
    "## Inner (dot) products do not require the same shape, however the inner values of the matrices must match"
   ]
  },
  {
   "cell_type": "code",
   "execution_count": 23,
   "id": "25f790cc-ef9a-4ec6-bb8b-e0d1f23b5eba",
   "metadata": {},
   "outputs": [
    {
     "data": {
      "text/plain": [
       "array([[ 6, 12],\n",
       "       [ 6, 12],\n",
       "       [ 6, 12]])"
      ]
     },
     "execution_count": 23,
     "metadata": {},
     "output_type": "execute_result"
    }
   ],
   "source": [
    "vecD @ vecC"
   ]
  },
  {
   "cell_type": "markdown",
   "id": "42b6702a-c764-4e45-8c3b-2f1d5ad0a475",
   "metadata": {},
   "source": [
    "### The \"@\" is equivalent to np.dot() and np.matmul for matrices()"
   ]
  },
  {
   "cell_type": "code",
   "execution_count": 24,
   "id": "c6fe5c0a-2044-44a5-9479-48eaefd8d881",
   "metadata": {},
   "outputs": [
    {
     "data": {
      "text/plain": [
       "array([[ 6, 12],\n",
       "       [ 6, 12],\n",
       "       [ 6, 12]])"
      ]
     },
     "execution_count": 24,
     "metadata": {},
     "output_type": "execute_result"
    }
   ],
   "source": [
    "np.dot(vecD, vecC)"
   ]
  },
  {
   "cell_type": "code",
   "execution_count": 25,
   "id": "47901201-f933-406b-b5b6-cdb95baedf49",
   "metadata": {},
   "outputs": [
    {
     "data": {
      "text/plain": [
       "array([[ 6, 12],\n",
       "       [ 6, 12],\n",
       "       [ 6, 12]])"
      ]
     },
     "execution_count": 25,
     "metadata": {},
     "output_type": "execute_result"
    }
   ],
   "source": [
    "np.matmul(vecD, vecC)"
   ]
  },
  {
   "cell_type": "markdown",
   "id": "96d9fd6d-a0d6-4f77-9ce9-8f8f28fb6aac",
   "metadata": {},
   "source": [
    "## Unlike element-wise multiplication, however, the order of the matrices matters. "
   ]
  },
  {
   "cell_type": "code",
   "execution_count": 18,
   "id": "6cedafb0",
   "metadata": {},
   "outputs": [
    {
     "ename": "ValueError",
     "evalue": "shapes (2,2) and (3,2) not aligned: 2 (dim 1) != 3 (dim 0)",
     "output_type": "error",
     "traceback": [
      "\u001b[0;31m---------------------------------------------------------------------------\u001b[0m",
      "\u001b[0;31mValueError\u001b[0m                                Traceback (most recent call last)",
      "\u001b[0;32m/var/folders/w1/v8x3p_k90rv3gff4rph9wkpc0000gn/T/ipykernel_3874/3098555505.py\u001b[0m in \u001b[0;36m<module>\u001b[0;34m\u001b[0m\n\u001b[0;32m----> 1\u001b[0;31m \u001b[0mnp\u001b[0m\u001b[0;34m.\u001b[0m\u001b[0mdot\u001b[0m\u001b[0;34m(\u001b[0m\u001b[0mvecC\u001b[0m\u001b[0;34m,\u001b[0m \u001b[0mvecD\u001b[0m\u001b[0;34m)\u001b[0m\u001b[0;34m\u001b[0m\u001b[0;34m\u001b[0m\u001b[0m\n\u001b[0m",
      "\u001b[0;32m<__array_function__ internals>\u001b[0m in \u001b[0;36mdot\u001b[0;34m(*args, **kwargs)\u001b[0m\n",
      "\u001b[0;31mValueError\u001b[0m: shapes (2,2) and (3,2) not aligned: 2 (dim 1) != 3 (dim 0)"
     ]
    }
   ],
   "source": [
    "np.dot(vecC, vecD)"
   ]
  },
  {
   "cell_type": "markdown",
   "id": "64638c04-f2ef-4f9f-9de0-db36c5c300e1",
   "metadata": {},
   "source": [
    "### Some sample test outputs using random values and different notations, plus print statements"
   ]
  },
  {
   "cell_type": "code",
   "execution_count": 28,
   "id": "bb54dede",
   "metadata": {},
   "outputs": [
    {
     "name": "stdout",
     "output_type": "stream",
     "text": [
      "[[[0.72284301 0.78819667 1.75736585]\n",
      "  [0.29943639 0.2256965  0.48559498]\n",
      "  [1.1018824  0.895632   1.73699127]]\n",
      "\n",
      " [[0.6439384  0.4157148  0.88052342]\n",
      "  [0.65465794 0.13490045 0.26513794]\n",
      "  [0.91607222 0.43324144 0.51869675]]] (2, 3, 3)\n",
      "[[[[0.72284301 0.78819667 1.75736585]\n",
      "   [0.92133939 0.44757833 0.47996982]]\n",
      "\n",
      "  [[0.29943639 0.2256965  0.48559498]\n",
      "   [0.22951571 0.1585242  0.25172468]]\n",
      "\n",
      "  [[1.1018824  0.895632   1.73699127]\n",
      "   [0.75662856 0.58597782 0.84686385]]]\n",
      "\n",
      "\n",
      " [[[0.83965757 0.43712184 1.21894514]\n",
      "   [0.6439384  0.4157148  0.88052342]]\n",
      "\n",
      "  [[0.17441839 0.14064959 0.86718467]\n",
      "   [0.65465794 0.13490045 0.26513794]]\n",
      "\n",
      "  [[0.71016714 0.72447874 1.70214576]\n",
      "   [0.91607222 0.43324144 0.51869675]]]] (2, 3, 2, 3)\n",
      "[[[0.72284301 0.78819667 1.75736585]\n",
      "  [0.29943639 0.2256965  0.48559498]\n",
      "  [1.1018824  0.895632   1.73699127]]\n",
      "\n",
      " [[0.6439384  0.4157148  0.88052342]\n",
      "  [0.65465794 0.13490045 0.26513794]\n",
      "  [0.91607222 0.43324144 0.51869675]]] (2, 3, 3)\n"
     ]
    }
   ],
   "source": [
    "a = np.random.rand(2,3,3)\n",
    "b = np.random.rand(2,3,3)\n",
    "c = (a@b)\n",
    "d = np.dot(a,b)\n",
    "e = np.matmul(a,b)\n",
    "print(c,c.shape)\n",
    "print(d,d.shape)\n",
    "print(e,e.shape)"
   ]
  },
  {
   "cell_type": "code",
   "execution_count": 25,
   "id": "e68f053c",
   "metadata": {},
   "outputs": [
    {
     "name": "stdout",
     "output_type": "stream",
     "text": [
      "[[[0.40225736 0.36111255 0.19669152]\n",
      "  [1.09558214 1.51638612 0.24240802]\n",
      "  [0.92671046 0.96806502 0.43087234]]\n",
      "\n",
      " [[0.86517875 0.70266539 1.04754084]\n",
      "  [0.58616427 0.80991035 0.71268113]\n",
      "  [0.33296999 0.77262947 0.37741854]]] (2, 3, 3)\n"
     ]
    }
   ],
   "source": [
    "e = np.matmul(a,b)\n",
    "print(e, e.shape)"
   ]
  },
  {
   "cell_type": "code",
   "execution_count": null,
   "id": "e7777b98-ba24-49ae-8f22-7dc2639337eb",
   "metadata": {},
   "outputs": [],
   "source": []
  },
  {
   "cell_type": "markdown",
   "id": "412264e1-0344-47d5-8bbe-7845bf85d2a7",
   "metadata": {},
   "source": [
    "## Arrays can contain more than just numbers"
   ]
  },
  {
   "cell_type": "code",
   "execution_count": 26,
   "id": "72033cfa",
   "metadata": {},
   "outputs": [],
   "source": [
    "diffarray = np.array([1, \"cheese\", 24.2])"
   ]
  },
  {
   "cell_type": "code",
   "execution_count": 27,
   "id": "775a40c9",
   "metadata": {},
   "outputs": [
    {
     "data": {
      "text/plain": [
       "array(['1', 'cheese', '24.2'], dtype='<U32')"
      ]
     },
     "execution_count": 27,
     "metadata": {},
     "output_type": "execute_result"
    }
   ],
   "source": [
    "diffarray"
   ]
  },
  {
   "cell_type": "markdown",
   "id": "5bce4742-7616-4c5d-9c40-ef655a0b01d1",
   "metadata": {},
   "source": [
    "## If an array contains a string, all elements are assumed to be strings. This can lead to some confusing outputs. For example, if I try to add the first array element \"1\" to another number, an error is returned."
   ]
  },
  {
   "cell_type": "code",
   "execution_count": 35,
   "id": "22682f1f",
   "metadata": {},
   "outputs": [
    {
     "data": {
      "text/plain": [
       "'1'"
      ]
     },
     "execution_count": 35,
     "metadata": {},
     "output_type": "execute_result"
    }
   ],
   "source": [
    "diffarray[0]"
   ]
  },
  {
   "cell_type": "code",
   "execution_count": 29,
   "id": "a442bf17",
   "metadata": {
    "tags": []
   },
   "outputs": [
    {
     "ename": "TypeError",
     "evalue": "can only concatenate str (not \"int\") to str",
     "output_type": "error",
     "traceback": [
      "\u001b[0;31m---------------------------------------------------------------------------\u001b[0m",
      "\u001b[0;31mTypeError\u001b[0m                                 Traceback (most recent call last)",
      "\u001b[0;32m/var/folders/w1/v8x3p_k90rv3gff4rph9wkpc0000gn/T/ipykernel_86011/2502929326.py\u001b[0m in \u001b[0;36m<module>\u001b[0;34m\u001b[0m\n\u001b[0;32m----> 1\u001b[0;31m \u001b[0mdiffarray\u001b[0m\u001b[0;34m[\u001b[0m\u001b[0;36m0\u001b[0m\u001b[0;34m]\u001b[0m \u001b[0;34m+\u001b[0m \u001b[0;36m2\u001b[0m\u001b[0;34m\u001b[0m\u001b[0;34m\u001b[0m\u001b[0m\n\u001b[0m",
      "\u001b[0;31mTypeError\u001b[0m: can only concatenate str (not \"int\") to str"
     ]
    }
   ],
   "source": [
    "diffarray[0] + 2"
   ]
  },
  {
   "cell_type": "markdown",
   "id": "9e684b6e-e50f-465d-8f52-6a0b69f1f0f3",
   "metadata": {},
   "source": [
    "### However, if I try the same thing, but convert the number to string, Python is able to figure out what I'm trying to do and produce the correct output."
   ]
  },
  {
   "cell_type": "code",
   "execution_count": 30,
   "id": "4e16661b",
   "metadata": {},
   "outputs": [
    {
     "data": {
      "text/plain": [
       "'12'"
      ]
     },
     "execution_count": 30,
     "metadata": {},
     "output_type": "execute_result"
    }
   ],
   "source": [
    "diffarray[0] + \"2\""
   ]
  },
  {
   "cell_type": "code",
   "execution_count": null,
   "id": "7dd34035",
   "metadata": {},
   "outputs": [],
   "source": []
  }
 ],
 "metadata": {
  "kernelspec": {
   "display_name": "Python 3 (ipykernel)",
   "language": "python",
   "name": "python3"
  },
  "language_info": {
   "codemirror_mode": {
    "name": "ipython",
    "version": 3
   },
   "file_extension": ".py",
   "mimetype": "text/x-python",
   "name": "python",
   "nbconvert_exporter": "python",
   "pygments_lexer": "ipython3",
   "version": "3.9.7"
  }
 },
 "nbformat": 4,
 "nbformat_minor": 5
}
