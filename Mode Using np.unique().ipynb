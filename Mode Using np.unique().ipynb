{
 "cells": [
  {
   "cell_type": "code",
   "execution_count": 1,
   "id": "04e187a8",
   "metadata": {},
   "outputs": [],
   "source": [
    "import numpy as np"
   ]
  },
  {
   "cell_type": "code",
   "execution_count": 54,
   "id": "80141cc8",
   "metadata": {},
   "outputs": [],
   "source": [
    "x = np.array(([1,4,1,1],[2,8,2,3]))"
   ]
  },
  {
   "cell_type": "code",
   "execution_count": 64,
   "id": "32de5657",
   "metadata": {},
   "outputs": [],
   "source": [
    "vals, counts = np.unique(x[1], return_counts = True) "
   ]
  },
  {
   "cell_type": "code",
   "execution_count": 65,
   "id": "4303ec9a",
   "metadata": {},
   "outputs": [
    {
     "data": {
      "text/plain": [
       "array([2, 3, 8])"
      ]
     },
     "execution_count": 65,
     "metadata": {},
     "output_type": "execute_result"
    }
   ],
   "source": [
    "vals"
   ]
  },
  {
   "cell_type": "code",
   "execution_count": 66,
   "id": "940f2553",
   "metadata": {},
   "outputs": [
    {
     "data": {
      "text/plain": [
       "array([2, 1, 1])"
      ]
     },
     "execution_count": 66,
     "metadata": {},
     "output_type": "execute_result"
    }
   ],
   "source": [
    "counts"
   ]
  },
  {
   "cell_type": "code",
   "execution_count": 67,
   "id": "999287d8",
   "metadata": {},
   "outputs": [],
   "source": [
    "index = np.argmax(counts)"
   ]
  },
  {
   "cell_type": "code",
   "execution_count": 68,
   "id": "af37a84c",
   "metadata": {},
   "outputs": [
    {
     "data": {
      "text/plain": [
       "0"
      ]
     },
     "execution_count": 68,
     "metadata": {},
     "output_type": "execute_result"
    }
   ],
   "source": [
    "index"
   ]
  },
  {
   "cell_type": "code",
   "execution_count": 69,
   "id": "55e6dbac",
   "metadata": {},
   "outputs": [],
   "source": [
    "pred = vals[index]"
   ]
  },
  {
   "cell_type": "code",
   "execution_count": 70,
   "id": "ec1c749b",
   "metadata": {},
   "outputs": [
    {
     "data": {
      "text/plain": [
       "2"
      ]
     },
     "execution_count": 70,
     "metadata": {},
     "output_type": "execute_result"
    }
   ],
   "source": [
    "pred"
   ]
  },
  {
   "cell_type": "code",
   "execution_count": 89,
   "id": "20d6401f",
   "metadata": {},
   "outputs": [],
   "source": [
    "# https://www.delftstack.com/howto/numpy/python-numpy-mode/"
   ]
  },
  {
   "cell_type": "code",
   "execution_count": 76,
   "id": "88d88c38",
   "metadata": {},
   "outputs": [],
   "source": [
    "def classify(inputdata):\n",
    "    n, d = inputdata.shape\n",
    "    preds = np.zeros(n)\n",
    "    for i in range(n):\n",
    "        vals,counts = np.unique(x[i], return_counts = True)\n",
    "        index = np.argmax(counts)\n",
    "        preds[i] = vals[index]\n",
    "    return preds"
   ]
  },
  {
   "cell_type": "code",
   "execution_count": 77,
   "id": "6d8f6a24",
   "metadata": {},
   "outputs": [
    {
     "data": {
      "text/plain": [
       "array([1., 2.])"
      ]
     },
     "execution_count": 77,
     "metadata": {},
     "output_type": "execute_result"
    }
   ],
   "source": [
    "classify(x)"
   ]
  },
  {
   "cell_type": "code",
   "execution_count": null,
   "id": "f1ff63e7",
   "metadata": {},
   "outputs": [],
   "source": []
  },
  {
   "cell_type": "code",
   "execution_count": null,
   "id": "7b989ed2",
   "metadata": {},
   "outputs": [],
   "source": []
  },
  {
   "cell_type": "code",
   "execution_count": 78,
   "id": "a8aec73b",
   "metadata": {},
   "outputs": [],
   "source": [
    "def npmode(inputrow):\n",
    "    vals,counts = np.unique(inputrow, return_counts = True)\n",
    "    index = np.argmax(counts)\n",
    "    prediction = vals[index]\n",
    "    return prediction"
   ]
  },
  {
   "cell_type": "code",
   "execution_count": 79,
   "id": "a1a9159c",
   "metadata": {},
   "outputs": [
    {
     "data": {
      "text/plain": [
       "array([[1, 4, 1, 1],\n",
       "       [2, 8, 2, 3]])"
      ]
     },
     "execution_count": 79,
     "metadata": {},
     "output_type": "execute_result"
    }
   ],
   "source": [
    "x"
   ]
  },
  {
   "cell_type": "code",
   "execution_count": 81,
   "id": "e7b7bae5",
   "metadata": {},
   "outputs": [
    {
     "data": {
      "text/plain": [
       "2"
      ]
     },
     "execution_count": 81,
     "metadata": {},
     "output_type": "execute_result"
    }
   ],
   "source": [
    "npmode(x[1])"
   ]
  },
  {
   "cell_type": "code",
   "execution_count": 85,
   "id": "5047e0ae",
   "metadata": {},
   "outputs": [],
   "source": [
    "def classify2(inputdata):\n",
    "    n, d = inputdata.shape\n",
    "    preds = np.zeros(n)\n",
    "    for i in range(n):\n",
    "        preds[i] = npmode(inputdata[i])\n",
    "    return preds  "
   ]
  },
  {
   "cell_type": "code",
   "execution_count": 86,
   "id": "832cefde",
   "metadata": {},
   "outputs": [
    {
     "data": {
      "text/plain": [
       "array([1., 2.])"
      ]
     },
     "execution_count": 86,
     "metadata": {},
     "output_type": "execute_result"
    }
   ],
   "source": [
    "classify2(x)"
   ]
  },
  {
   "cell_type": "code",
   "execution_count": null,
   "id": "03dbae69",
   "metadata": {},
   "outputs": [],
   "source": []
  }
 ],
 "metadata": {
  "kernelspec": {
   "display_name": "Python 3 (ipykernel)",
   "language": "python",
   "name": "python3"
  },
  "language_info": {
   "codemirror_mode": {
    "name": "ipython",
    "version": 3
   },
   "file_extension": ".py",
   "mimetype": "text/x-python",
   "name": "python",
   "nbconvert_exporter": "python",
   "pygments_lexer": "ipython3",
   "version": "3.9.7"
  }
 },
 "nbformat": 4,
 "nbformat_minor": 5
}
