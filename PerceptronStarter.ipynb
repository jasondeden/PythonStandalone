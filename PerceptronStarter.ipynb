{
 "cells": [
  {
   "cell_type": "code",
   "execution_count": 35,
   "id": "9d5446ba-ec32-4867-8ac7-427097f89262",
   "metadata": {},
   "outputs": [],
   "source": [
    "import numpy as np"
   ]
  },
  {
   "cell_type": "code",
   "execution_count": 59,
   "id": "098fbdd8-2953-4373-8760-af9c2b86cc90",
   "metadata": {},
   "outputs": [],
   "source": [
    "numobservations = 20\n",
    "numdimensions = 4"
   ]
  },
  {
   "cell_type": "code",
   "execution_count": 60,
   "id": "8d35b68c-6259-479b-8422-ebca6002bdb5",
   "metadata": {},
   "outputs": [],
   "source": [
    "xs = np.random.rand(numobservations,numdimensions)"
   ]
  },
  {
   "cell_type": "code",
   "execution_count": 61,
   "id": "10ade64f-44a6-4100-b74d-c7231e634aaf",
   "metadata": {},
   "outputs": [
    {
     "data": {
      "text/plain": [
       "array([[0.23700043, 0.83655424, 0.87870756, 0.52306209],\n",
       "       [0.59535725, 0.12074825, 0.2014483 , 0.85671084],\n",
       "       [0.58351209, 0.00963455, 0.94550828, 0.65788458],\n",
       "       [0.92014546, 0.14849856, 0.39156441, 0.04416041],\n",
       "       [0.29510043, 0.29093829, 0.62904535, 0.84283234],\n",
       "       [0.23778787, 0.5449531 , 0.14541744, 0.91307655],\n",
       "       [0.07663442, 0.58355686, 0.86343709, 0.21267774],\n",
       "       [0.85282284, 0.92338082, 0.65646076, 0.15859554],\n",
       "       [0.29418088, 0.75268536, 0.49495968, 0.18792869],\n",
       "       [0.9169381 , 0.46995676, 0.65843668, 0.82628184],\n",
       "       [0.51381535, 0.54301522, 0.32963226, 0.57563331],\n",
       "       [0.20303606, 0.53832573, 0.76599792, 0.06602682],\n",
       "       [0.77241312, 0.92701537, 0.2930222 , 0.55454775],\n",
       "       [0.8275125 , 0.84650479, 0.31556974, 0.8427153 ],\n",
       "       [0.68238774, 0.84835075, 0.53755998, 0.38627889],\n",
       "       [0.68695793, 0.92085283, 0.8484584 , 0.6313438 ],\n",
       "       [0.59523535, 0.15471884, 0.55480036, 0.22314389],\n",
       "       [0.62774785, 0.0184144 , 0.67925168, 0.20170836],\n",
       "       [0.9444096 , 0.64143056, 0.51340464, 0.09443364],\n",
       "       [0.80576375, 0.18944832, 0.6089237 , 0.70454677]])"
      ]
     },
     "execution_count": 61,
     "metadata": {},
     "output_type": "execute_result"
    }
   ],
   "source": [
    "xs"
   ]
  },
  {
   "cell_type": "code",
   "execution_count": 62,
   "id": "7efba541-5ea5-43cb-8286-051ba766dbe6",
   "metadata": {},
   "outputs": [],
   "source": [
    "b_adjust = np.ones(xs.shape[0])"
   ]
  },
  {
   "cell_type": "code",
   "execution_count": 63,
   "id": "aa25ecb3-821c-4cb6-8635-4de872c6a2cc",
   "metadata": {},
   "outputs": [
    {
     "data": {
      "text/plain": [
       "array([1., 1., 1., 1., 1., 1., 1., 1., 1., 1., 1., 1., 1., 1., 1., 1., 1.,\n",
       "       1., 1., 1.])"
      ]
     },
     "execution_count": 63,
     "metadata": {},
     "output_type": "execute_result"
    }
   ],
   "source": [
    "b_adjust"
   ]
  },
  {
   "cell_type": "code",
   "execution_count": 64,
   "id": "83650be9-7f52-4905-99fa-bc4e8ffba4bd",
   "metadata": {},
   "outputs": [],
   "source": [
    "b_adjust = b_adjust.reshape((xs.shape[0],1))"
   ]
  },
  {
   "cell_type": "code",
   "execution_count": 65,
   "id": "223bbfcb-6557-4f2a-aa0a-c9ca4880be69",
   "metadata": {},
   "outputs": [
    {
     "data": {
      "text/plain": [
       "array([[1.],\n",
       "       [1.],\n",
       "       [1.],\n",
       "       [1.],\n",
       "       [1.],\n",
       "       [1.],\n",
       "       [1.],\n",
       "       [1.],\n",
       "       [1.],\n",
       "       [1.],\n",
       "       [1.],\n",
       "       [1.],\n",
       "       [1.],\n",
       "       [1.],\n",
       "       [1.],\n",
       "       [1.],\n",
       "       [1.],\n",
       "       [1.],\n",
       "       [1.],\n",
       "       [1.]])"
      ]
     },
     "execution_count": 65,
     "metadata": {},
     "output_type": "execute_result"
    }
   ],
   "source": [
    "b_adjust"
   ]
  },
  {
   "cell_type": "code",
   "execution_count": 66,
   "id": "80b18b34-a610-4fd4-9fb3-284cdd280746",
   "metadata": {},
   "outputs": [],
   "source": [
    "xs_edited = np.hstack((xs, b_adjust))"
   ]
  },
  {
   "cell_type": "code",
   "execution_count": 67,
   "id": "b57271ce-52eb-401e-852f-e4605f7e6f36",
   "metadata": {},
   "outputs": [
    {
     "data": {
      "text/plain": [
       "array([[0.23700043, 0.83655424, 0.87870756, 0.52306209, 1.        ],\n",
       "       [0.59535725, 0.12074825, 0.2014483 , 0.85671084, 1.        ],\n",
       "       [0.58351209, 0.00963455, 0.94550828, 0.65788458, 1.        ],\n",
       "       [0.92014546, 0.14849856, 0.39156441, 0.04416041, 1.        ],\n",
       "       [0.29510043, 0.29093829, 0.62904535, 0.84283234, 1.        ],\n",
       "       [0.23778787, 0.5449531 , 0.14541744, 0.91307655, 1.        ],\n",
       "       [0.07663442, 0.58355686, 0.86343709, 0.21267774, 1.        ],\n",
       "       [0.85282284, 0.92338082, 0.65646076, 0.15859554, 1.        ],\n",
       "       [0.29418088, 0.75268536, 0.49495968, 0.18792869, 1.        ],\n",
       "       [0.9169381 , 0.46995676, 0.65843668, 0.82628184, 1.        ],\n",
       "       [0.51381535, 0.54301522, 0.32963226, 0.57563331, 1.        ],\n",
       "       [0.20303606, 0.53832573, 0.76599792, 0.06602682, 1.        ],\n",
       "       [0.77241312, 0.92701537, 0.2930222 , 0.55454775, 1.        ],\n",
       "       [0.8275125 , 0.84650479, 0.31556974, 0.8427153 , 1.        ],\n",
       "       [0.68238774, 0.84835075, 0.53755998, 0.38627889, 1.        ],\n",
       "       [0.68695793, 0.92085283, 0.8484584 , 0.6313438 , 1.        ],\n",
       "       [0.59523535, 0.15471884, 0.55480036, 0.22314389, 1.        ],\n",
       "       [0.62774785, 0.0184144 , 0.67925168, 0.20170836, 1.        ],\n",
       "       [0.9444096 , 0.64143056, 0.51340464, 0.09443364, 1.        ],\n",
       "       [0.80576375, 0.18944832, 0.6089237 , 0.70454677, 1.        ]])"
      ]
     },
     "execution_count": 67,
     "metadata": {},
     "output_type": "execute_result"
    }
   ],
   "source": [
    "xs_edited"
   ]
  },
  {
   "cell_type": "code",
   "execution_count": 68,
   "id": "af88d2f4-649d-427d-8455-b3d4d383eb85",
   "metadata": {},
   "outputs": [],
   "source": [
    "ys_starter = np.random.randint(0, 2, xs.shape[0])"
   ]
  },
  {
   "cell_type": "code",
   "execution_count": 69,
   "id": "20d79475-cc0b-42d3-bc78-9a78db8125bb",
   "metadata": {},
   "outputs": [
    {
     "data": {
      "text/plain": [
       "array([1, 0, 0, 1, 1, 1, 1, 1, 1, 1, 1, 0, 0, 0, 1, 1, 1, 1, 0, 0])"
      ]
     },
     "execution_count": 69,
     "metadata": {},
     "output_type": "execute_result"
    }
   ],
   "source": [
    "ys_starter"
   ]
  },
  {
   "cell_type": "code",
   "execution_count": 70,
   "id": "dfdcbc5a-09ef-40b3-8593-4398769f7608",
   "metadata": {},
   "outputs": [],
   "source": [
    "ys_starter[ys_starter == 0] = -1"
   ]
  },
  {
   "cell_type": "code",
   "execution_count": 71,
   "id": "e756a2a0-db1b-4de1-804c-9b143ff339b9",
   "metadata": {},
   "outputs": [],
   "source": [
    "ys = ys_starter"
   ]
  },
  {
   "cell_type": "code",
   "execution_count": 72,
   "id": "457ced21-6a6a-43d8-8b9d-c973328aeb74",
   "metadata": {},
   "outputs": [
    {
     "data": {
      "text/plain": [
       "array([ 1, -1, -1,  1,  1,  1,  1,  1,  1,  1,  1, -1, -1, -1,  1,  1,  1,\n",
       "        1, -1, -1])"
      ]
     },
     "execution_count": 72,
     "metadata": {},
     "output_type": "execute_result"
    }
   ],
   "source": [
    "ys"
   ]
  },
  {
   "cell_type": "code",
   "execution_count": 73,
   "id": "09bc860a-d0ba-4a78-abb6-2395b6c95763",
   "metadata": {},
   "outputs": [],
   "source": [
    "initial_w = np.zeros(numdimensions)"
   ]
  },
  {
   "cell_type": "code",
   "execution_count": 74,
   "id": "eebbe1ba-36fc-4b16-9eec-40c8d29b7c55",
   "metadata": {},
   "outputs": [],
   "source": [
    "initial_b = 0.0"
   ]
  },
  {
   "cell_type": "code",
   "execution_count": 75,
   "id": "7ae84043-7e0b-49b4-a7e4-9a14b67fc969",
   "metadata": {},
   "outputs": [],
   "source": [
    "new_w = np.zeros(numdimensions+1)"
   ]
  },
  {
   "cell_type": "code",
   "execution_count": 76,
   "id": "74bb8edd-9898-4b38-a7cf-2f5d6ec16526",
   "metadata": {},
   "outputs": [
    {
     "data": {
      "text/plain": [
       "array([0., 0., 0., 0., 0.])"
      ]
     },
     "execution_count": 76,
     "metadata": {},
     "output_type": "execute_result"
    }
   ],
   "source": [
    "new_w"
   ]
  },
  {
   "cell_type": "code",
   "execution_count": 78,
   "id": "a9601e2c-91a1-41a3-8a3d-c8588aaf135b",
   "metadata": {},
   "outputs": [],
   "source": [
    "#Our first perceptron iteration"
   ]
  },
  {
   "cell_type": "code",
   "execution_count": 94,
   "id": "833e320a-4a34-4a1f-bae0-478bdc63b30b",
   "metadata": {},
   "outputs": [],
   "source": [
    "randomindexvalue = 11"
   ]
  },
  {
   "cell_type": "code",
   "execution_count": 98,
   "id": "c7b223e0-8eaa-420b-b14c-5c591189150d",
   "metadata": {},
   "outputs": [
    {
     "data": {
      "text/plain": [
       "False"
      ]
     },
     "execution_count": 98,
     "metadata": {},
     "output_type": "execute_result"
    }
   ],
   "source": [
    "#evaluate if our current weight vector returns the right sign with this observation\n",
    "ys[randomindexvalue]*(new_w @ xs_edited[randomindexvalue]) > 0"
   ]
  },
  {
   "cell_type": "code",
   "execution_count": 99,
   "id": "64fd0a05-850d-4b1e-8f57-63198c7a8492",
   "metadata": {},
   "outputs": [
    {
     "data": {
      "text/plain": [
       "-0.0"
      ]
     },
     "execution_count": 99,
     "metadata": {},
     "output_type": "execute_result"
    }
   ],
   "source": [
    "ys[randomindexvalue]*(new_w @ xs_edited[randomindexvalue])"
   ]
  },
  {
   "cell_type": "code",
   "execution_count": 97,
   "id": "009537b1-2c0c-46bf-81b5-89f5cc69a772",
   "metadata": {},
   "outputs": [],
   "source": [
    "#If it evaluates true, this point is correctly classified \n",
    "#(the sign of ys = sign of new_w @ xs_edited for that observation)\n",
    "#If false, then we need to update new_w\n",
    "#The first one will always return false because it will be 0"
   ]
  },
  {
   "cell_type": "code",
   "execution_count": null,
   "id": "3f4df7c0-c0a4-461a-bbe1-3754c0da554a",
   "metadata": {},
   "outputs": [],
   "source": []
  }
 ],
 "metadata": {
  "kernelspec": {
   "display_name": "Python 3 (ipykernel)",
   "language": "python",
   "name": "python3"
  },
  "language_info": {
   "codemirror_mode": {
    "name": "ipython",
    "version": 3
   },
   "file_extension": ".py",
   "mimetype": "text/x-python",
   "name": "python",
   "nbconvert_exporter": "python",
   "pygments_lexer": "ipython3",
   "version": "3.9.7"
  }
 },
 "nbformat": 4,
 "nbformat_minor": 5
}
