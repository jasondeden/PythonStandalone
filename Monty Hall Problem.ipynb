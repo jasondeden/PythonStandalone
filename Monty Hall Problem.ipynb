{
 "cells": [
  {
   "cell_type": "markdown",
   "id": "671d5d76",
   "metadata": {},
   "source": [
    "# Let's Make a Deal!"
   ]
  },
  {
   "cell_type": "markdown",
   "id": "0973d80d",
   "metadata": {},
   "source": [
    "## I recently came across a brain-melting concept that goes to show how hard it is for humans to think in statistical terms. It's known as the \"Monty Hall\" problem, and I had to see it in action for myself."
   ]
  },
  {
   "cell_type": "markdown",
   "id": "6698b2ec",
   "metadata": {},
   "source": [
    "### It goes like this: You are playing a game show and choosing between three doors. One of them has the grand prize (a car is usually used as the example) and the other two are losing choices. "
   ]
  },
  {
   "cell_type": "markdown",
   "id": "152988db",
   "metadata": {},
   "source": [
    "### You choose a door. Your odds of winning the grand prize are effectively 1 in 3. The game show host then shows you that one of the doors you did not pick was a losing door (which, regardless of your choice, one of the remaining options was going to be.) They then give you the option to either keep your original choice, or switch to the door you did not initially pick. What should you do?"
   ]
  },
  {
   "cell_type": "markdown",
   "id": "169bc82a",
   "metadata": {},
   "source": [
    "### The common - and it turns out **incorrect** answer - is it doesn't matter. There are two doors left, and one of them has a prize, so intuitively you would think you have a 50/50 shot of winning the prize behind the remaining doors. HOWEVER, the statistics actually work out such that switching your doors at this point gives you a 66% chance of winning, while keeping your original choice means you have only a 33% chance. "
   ]
  },
  {
   "cell_type": "markdown",
   "id": "1dcd0326",
   "metadata": {},
   "source": [
    "# Say what now?"
   ]
  },
  {
   "cell_type": "markdown",
   "id": "d70df503",
   "metadata": {},
   "source": [
    "## Much has been written, exhaustively, about the math behind this, so I will refer you to a Google search to read up on how this works out. However, if you're like me, you need to see this work in the real world in order to believe it. Thus, to illustrate, I put together the code below."
   ]
  },
  {
   "cell_type": "code",
   "execution_count": 113,
   "id": "54995ae4",
   "metadata": {},
   "outputs": [],
   "source": [
    "import random"
   ]
  },
  {
   "cell_type": "code",
   "execution_count": 85,
   "id": "f0ca0196",
   "metadata": {},
   "outputs": [],
   "source": [
    "def pickwinner():\n",
    "    winner = random.randint(1, 3) #pick the winning number between 1 and 3\n",
    "    return winner\n",
    "\n",
    "def pickguess():\n",
    "    guess = random.randint(1, 3) #pick the initial guess between 1 and 3\n",
    "    return guess\n",
    "\n",
    "def revealfirst(winner, guess):\n",
    "    #print(winner)\n",
    "    #print(guess)\n",
    "    alloptions = [1, 2, 3]\n",
    "    #print(alloptions)\n",
    "    alloptions.remove(winner) # Need to ensure the winning door is not possibly revealed by the host.\n",
    "    #print(alloptions)\n",
    "\n",
    "    if guess in alloptions:\n",
    "        alloptions.remove(guess) #If our guess was not the winner, need to remove it from the list of doors to reveal.\n",
    "        #print(alloptions)\n",
    "        #print(alloptions[0])\n",
    "        reveal = alloptions[0] \n",
    "        #print(\"reveal = {}\".format(reveal))\n",
    "    else:\n",
    "        reveal = random.choice(alloptions) #If our guess was the winner, pick the revealed door at random from the non-winners.\n",
    "        #print(\"reveal = {}\".format(reveal))\n",
    "    \n",
    "    return reveal"
   ]
  },
  {
   "cell_type": "code",
   "execution_count": 163,
   "id": "43df0c12",
   "metadata": {},
   "outputs": [],
   "source": [
    "def playgame(numberplays):\n",
    "    \n",
    "    scorekeeper = [] #list to keep track of wins and losses - will it be closer to 50% or 66%?\n",
    "    numberplayed = 0\n",
    "    \n",
    "    while numberplayed < numberplays:\n",
    "        \n",
    "        winner = pickwinner() #pick winner at random\n",
    "        guess = pickguess()   #pick guess at random\n",
    "        reveal = revealfirst(winner, guess) #reveal a non-winning door\n",
    "        \n",
    "        doors = [1, 2, 3]\n",
    "        doors.remove(reveal) #remove the revealed door from the final choice options\n",
    "        doors.remove(guess)  #since we are going to switch every time, remove our original guess from the list\n",
    "        \n",
    "        switchchoice = doors[0]  #Our final choice (switchchoice) is the value that remains\n",
    "        \n",
    "        if switchchoice == winner:\n",
    "            scorekeeper.append(1) #write a 1 to the list for every time we win with this strategy\n",
    "        else:\n",
    "            scorekeeper.append(0) #write a 0 to the list for every time we lose with this strategy\n",
    "        \n",
    "        numberplayed += 1\n",
    "    \n",
    "    percentwin = round(sum(scorekeeper)/numberplays, 4) * 100  #calculate our percentage of wins\n",
    "    \n",
    "    print(\"Switching strategy wins {}% of the time.\".format(percentwin))"
   ]
  },
  {
   "cell_type": "code",
   "execution_count": 164,
   "id": "6355fd41",
   "metadata": {
    "scrolled": true
   },
   "outputs": [
    {
     "name": "stdout",
     "output_type": "stream",
     "text": [
      "Switching strategy wins 70.0% of the time.\n"
     ]
    }
   ],
   "source": [
    "results10 = playgame(10)"
   ]
  },
  {
   "cell_type": "code",
   "execution_count": 165,
   "id": "2da2a0ab",
   "metadata": {},
   "outputs": [
    {
     "name": "stdout",
     "output_type": "stream",
     "text": [
      "Switching strategy wins 62.0% of the time.\n"
     ]
    }
   ],
   "source": [
    "results100 = playgame(100)"
   ]
  },
  {
   "cell_type": "code",
   "execution_count": 166,
   "id": "1830ebbc",
   "metadata": {},
   "outputs": [
    {
     "name": "stdout",
     "output_type": "stream",
     "text": [
      "Switching strategy wins 66.8% of the time.\n"
     ]
    }
   ],
   "source": [
    "results1000 = playgame(1000)"
   ]
  },
  {
   "cell_type": "code",
   "execution_count": 167,
   "id": "ad4ad65b",
   "metadata": {},
   "outputs": [
    {
     "name": "stdout",
     "output_type": "stream",
     "text": [
      "Switching strategy wins 67.14% of the time.\n"
     ]
    }
   ],
   "source": [
    "results10000 = playgame(10000)"
   ]
  },
  {
   "cell_type": "code",
   "execution_count": 168,
   "id": "d7f0b333",
   "metadata": {},
   "outputs": [
    {
     "name": "stdout",
     "output_type": "stream",
     "text": [
      "Switching strategy wins 66.49000000000001% of the time.\n"
     ]
    }
   ],
   "source": [
    "results100000 = playgame(100000)"
   ]
  },
  {
   "cell_type": "markdown",
   "id": "70b2761e",
   "metadata": {},
   "source": [
    "## As you can see, the switching strategy, using randomly generated winning doors and initial guesses, ends up being the correct choice around 2/3 of the time - and definitively more than 50% of the time. Isn't statistics neat?"
   ]
  }
 ],
 "metadata": {
  "kernelspec": {
   "display_name": "Python [conda env:Py3.7]",
   "language": "python",
   "name": "conda-env-Py3.7-py"
  },
  "language_info": {
   "codemirror_mode": {
    "name": "ipython",
    "version": 3
   },
   "file_extension": ".py",
   "mimetype": "text/x-python",
   "name": "python",
   "nbconvert_exporter": "python",
   "pygments_lexer": "ipython3",
   "version": "3.7.13"
  }
 },
 "nbformat": 4,
 "nbformat_minor": 5
}
