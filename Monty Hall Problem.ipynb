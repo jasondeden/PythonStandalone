{
 "cells": [
  {
   "cell_type": "markdown",
   "id": "27e7cebe",
   "metadata": {},
   "source": [
    "# Let's Make a Deal!"
   ]
  },
  {
   "cell_type": "markdown",
   "id": "91552e87",
   "metadata": {},
   "source": [
    "## I recently came across a brain-melting concept that goes to show how hard it is for humans to think in statistical terms. It's known as the \"Monty Hall\" problem, and I had to see it in action for myself."
   ]
  },
  {
   "cell_type": "markdown",
   "id": "6f81d1ba",
   "metadata": {},
   "source": [
    "### It goes like this: You are playing a game show and choosing between three doors. One of them has the grand prize (a car is usually used as the example) and the other two are losing choices. "
   ]
  },
  {
   "cell_type": "markdown",
   "id": "1f5478e0",
   "metadata": {},
   "source": [
    "### You choose a door. Your odds of winning the grand prize are effectively 1 in 3. The game show host then shows you that one of the doors you did not pick was a losing door (which, regardless of your choice, one of the remaining options was going to be.) They then give you the option to either keep your original choice, or switch to the door you did not initially pick. What should you do?"
   ]
  },
  {
   "cell_type": "markdown",
   "id": "82577360",
   "metadata": {},
   "source": [
    "### The common - and it turns out **incorrect** answer - is it doesn't matter. There are two doors left, and one of them has a prize, so intuitively you would think you have a 50/50 shot of winning the prize behind the remaining doors. HOWEVER, the statistics actually work out such that switching your doors at this point gives you a 66% chance of winning, while keeping your original choice means you have only a 33% chance. "
   ]
  },
  {
   "cell_type": "markdown",
   "id": "502f7702",
   "metadata": {},
   "source": [
    "# Say what now?"
   ]
  },
  {
   "cell_type": "markdown",
   "id": "a10ba151",
   "metadata": {},
   "source": [
    "## Much has been written, exhaustively, about the math behind this, so I will refer you to a Google search to read up on how this works out. However, if you're like me, you need to see this work in the real world in order to believe it. Thus, to illustrate, I put together the code below."
   ]
  },
  {
   "cell_type": "code",
   "execution_count": 199,
   "id": "93210c7d",
   "metadata": {},
   "outputs": [],
   "source": [
    "import random"
   ]
  },
  {
   "cell_type": "code",
   "execution_count": 231,
   "id": "d0f356b3",
   "metadata": {},
   "outputs": [],
   "source": [
    "def pickwinner():\n",
    "    winner = random.randint(1, 3) #pick the winning number between 1 and 3\n",
    "    return winner\n",
    "\n",
    "def pickguess():\n",
    "    guess = random.randint(1, 3) #pick the initial guess between 1 and 3\n",
    "    return guess\n",
    "\n",
    "def revealfirst(winner, guess):\n",
    "    #print(winner)\n",
    "    #print(guess)\n",
    "    alloptions = [1, 2, 3]\n",
    "    #print(alloptions)\n",
    "    alloptions.remove(winner) # Need to ensure the winning door is not possibly revealed by the host.\n",
    "    #print(alloptions)\n",
    "\n",
    "    if guess in alloptions:\n",
    "        alloptions.remove(guess) #If our guess was not the winner, need to remove it from the list of doors to reveal.\n",
    "        #print(alloptions)\n",
    "        #print(alloptions[0])\n",
    "        reveal = alloptions[0] \n",
    "        #print(\"reveal = {}\".format(reveal))\n",
    "    else:\n",
    "        reveal = random.choice(alloptions) #If our guess was the winner, pick the revealed door at random from the non-winners.\n",
    "        #print(\"reveal = {}\".format(reveal))\n",
    "    \n",
    "    return reveal"
   ]
  },
  {
   "cell_type": "code",
   "execution_count": 201,
   "id": "c4090afc",
   "metadata": {},
   "outputs": [],
   "source": [
    "def playgame(numberplays):\n",
    "    \n",
    "    scorekeeper = [] #list to keep track of wins and losses - will it be closer to 50% or 66%?\n",
    "    numberplayed = 0\n",
    "    \n",
    "    while numberplayed < numberplays:\n",
    "        \n",
    "        winner = pickwinner() #pick winner at random\n",
    "        guess = pickguess()   #pick guess at random\n",
    "        reveal = revealfirst(winner, guess) #reveal a non-winning door\n",
    "        \n",
    "        doors = [1, 2, 3]\n",
    "        doors.remove(reveal) #remove the revealed door from the final choice options\n",
    "        doors.remove(guess)  #since we are going to switch every time, remove our original guess from the list\n",
    "        \n",
    "        switchchoice = doors[0]  #Our final choice (switchchoice) is the value that remains\n",
    "        \n",
    "        if switchchoice == winner:\n",
    "            scorekeeper.append(1) #write a 1 to the list for every time we win with this strategy\n",
    "        else:\n",
    "            scorekeeper.append(0) #write a 0 to the list for every time we lose with this strategy\n",
    "        \n",
    "        numberplayed += 1\n",
    "    \n",
    "    percentwin = round(sum(scorekeeper)/numberplays, 4) * 100  #calculate our percentage of wins\n",
    "    \n",
    "    print(\"Switching strategy wins {}% of the time.\".format(percentwin))"
   ]
  },
  {
   "cell_type": "code",
   "execution_count": 202,
   "id": "78a095c1",
   "metadata": {
    "scrolled": true
   },
   "outputs": [
    {
     "name": "stdout",
     "output_type": "stream",
     "text": [
      "Switching strategy wins 80.0% of the time.\n"
     ]
    }
   ],
   "source": [
    "results10 = playgame(10)"
   ]
  },
  {
   "cell_type": "code",
   "execution_count": 203,
   "id": "7e50a91b",
   "metadata": {},
   "outputs": [
    {
     "name": "stdout",
     "output_type": "stream",
     "text": [
      "Switching strategy wins 61.0% of the time.\n"
     ]
    }
   ],
   "source": [
    "results100 = playgame(100)"
   ]
  },
  {
   "cell_type": "code",
   "execution_count": 204,
   "id": "bb947dde",
   "metadata": {},
   "outputs": [
    {
     "name": "stdout",
     "output_type": "stream",
     "text": [
      "Switching strategy wins 70.7% of the time.\n"
     ]
    }
   ],
   "source": [
    "results1000 = playgame(1000)"
   ]
  },
  {
   "cell_type": "code",
   "execution_count": 205,
   "id": "872e58f9",
   "metadata": {},
   "outputs": [
    {
     "name": "stdout",
     "output_type": "stream",
     "text": [
      "Switching strategy wins 66.64999999999999% of the time.\n"
     ]
    }
   ],
   "source": [
    "results10000 = playgame(10000)"
   ]
  },
  {
   "cell_type": "code",
   "execution_count": 206,
   "id": "5d38a0db",
   "metadata": {},
   "outputs": [
    {
     "name": "stdout",
     "output_type": "stream",
     "text": [
      "Switching strategy wins 66.67999999999999% of the time.\n"
     ]
    }
   ],
   "source": [
    "results100000 = playgame(100000)"
   ]
  },
  {
   "cell_type": "markdown",
   "id": "a6c59174",
   "metadata": {},
   "source": [
    "## As you can see, the switching strategy, using randomly generated winning doors and initial guesses, ends up being the correct choice around 2/3 of the time - and definitively more than 50% of the time. Isn't statistics neat?"
   ]
  },
  {
   "cell_type": "markdown",
   "id": "63de3946",
   "metadata": {},
   "source": [
    "## BUT - I can hear the skeptics now - you only showed one outcome. While mathematically, it should be clear that every winner would be a loser and vice versa in the example above, just to put this completely to bed, let's write another playgame function, but this time **not** switch our choice and make sure the numbers are in the 33% range."
   ]
  },
  {
   "cell_type": "code",
   "execution_count": 207,
   "id": "95f9249c",
   "metadata": {},
   "outputs": [],
   "source": [
    "def playgame_noswitch(numberplays):\n",
    "    \n",
    "    scorekeeper = [] #list to keep track of wins and losses - will it be closer to 50% or 66%?\n",
    "    numberplayed = 0\n",
    "    \n",
    "    while numberplayed < numberplays:\n",
    "        \n",
    "        winner = pickwinner() #pick winner at random\n",
    "        guess = pickguess()   #pick guess at random\n",
    "        reveal = revealfirst(winner, guess) #reveal a non-winning door\n",
    "        \n",
    "        ## Since we're not going to switch our choice, the lines of code below are not needed.\n",
    "        ## All we have to do is change from switchchoice == winner to guess == winner.\n",
    "        \n",
    "        #doors = [1, 2, 3]\n",
    "        #doors.remove(reveal) #remove the revealed door from the final choice options\n",
    "        #doors.remove(guess)  #since we are going to switch every time, remove our original guess from the list\n",
    "        \n",
    "        #switchchoice = doors[0]  #Our final choice (switchchoice) is the value that remains\n",
    "        \n",
    "        #if switchchoice == winner:\n",
    "        #    scorekeeper.append(1) #write a 1 to the list for every time we win with this strategy\n",
    "        #else:\n",
    "        #    scorekeeper.append(0) #write a 0 to the list for every time we lose with this strategy\n",
    "        \n",
    "        if guess == winner: # This is the only change from the code above\n",
    "            scorekeeper.append(1) #write a 1 to the list for every time we win with this strategy\n",
    "        else:\n",
    "            scorekeeper.append(0) #write a 0 to the list for every time we lose with this strategy\n",
    "        \n",
    "        numberplayed += 1\n",
    "    \n",
    "    percentwin = round(sum(scorekeeper)/numberplays, 4) * 100  #calculate our percentage of wins\n",
    "    \n",
    "    print(\"Not switching strategy wins {}% of the time.\".format(percentwin))"
   ]
  },
  {
   "cell_type": "code",
   "execution_count": 208,
   "id": "983fbb80",
   "metadata": {},
   "outputs": [
    {
     "name": "stdout",
     "output_type": "stream",
     "text": [
      "Not switching strategy wins 40.0% of the time.\n"
     ]
    }
   ],
   "source": [
    "noswitch_results10 = playgame_noswitch(10)"
   ]
  },
  {
   "cell_type": "code",
   "execution_count": 209,
   "id": "294eacfc",
   "metadata": {},
   "outputs": [
    {
     "name": "stdout",
     "output_type": "stream",
     "text": [
      "Not switching strategy wins 21.0% of the time.\n"
     ]
    }
   ],
   "source": [
    "noswitch_results100 = playgame_noswitch(100)"
   ]
  },
  {
   "cell_type": "code",
   "execution_count": 210,
   "id": "7eb0608c",
   "metadata": {},
   "outputs": [
    {
     "name": "stdout",
     "output_type": "stream",
     "text": [
      "Not switching strategy wins 35.199999999999996% of the time.\n"
     ]
    }
   ],
   "source": [
    "noswitch_results1000 = playgame_noswitch(1000)"
   ]
  },
  {
   "cell_type": "code",
   "execution_count": 211,
   "id": "6a600d39",
   "metadata": {},
   "outputs": [
    {
     "name": "stdout",
     "output_type": "stream",
     "text": [
      "Not switching strategy wins 32.800000000000004% of the time.\n"
     ]
    }
   ],
   "source": [
    "noswitch_results10000 = playgame_noswitch(10000)"
   ]
  },
  {
   "cell_type": "code",
   "execution_count": 212,
   "id": "bc968ef5",
   "metadata": {},
   "outputs": [
    {
     "name": "stdout",
     "output_type": "stream",
     "text": [
      "Not switching strategy wins 33.39% of the time.\n"
     ]
    }
   ],
   "source": [
    "noswitch_results100000 = playgame_noswitch(100000)"
   ]
  },
  {
   "cell_type": "markdown",
   "id": "1d3be5a7",
   "metadata": {},
   "source": [
    "## So it's not a trick - when we don't switch, we only win about 1/3 times. Switching, we win 2/3 times. Mind-melting, but true!"
   ]
  },
  {
   "cell_type": "markdown",
   "id": "77210b7c",
   "metadata": {},
   "source": [
    "# But Wait!"
   ]
  },
  {
   "cell_type": "markdown",
   "id": "d8132648",
   "metadata": {},
   "source": [
    "## First, let's make sure that this isn't just some weird statistical thing about switching a choice between two doors."
   ]
  },
  {
   "cell_type": "code",
   "execution_count": 215,
   "id": "7e3c1ebb",
   "metadata": {},
   "outputs": [],
   "source": [
    "doors = [1, 2]\n",
    "\n",
    "def pickwinner2():\n",
    "    winner2 = random.randint(1, 2) #pick the winning number between 1 and 2\n",
    "    return winner2\n",
    "\n",
    "def pickguess2():\n",
    "    guess2 = random.randint(1, 2) #pick the initial guess between 1 and 2\n",
    "    return guess2"
   ]
  },
  {
   "cell_type": "code",
   "execution_count": 216,
   "id": "fbeb3287",
   "metadata": {},
   "outputs": [
    {
     "data": {
      "text/plain": [
       "1"
      ]
     },
     "execution_count": 216,
     "metadata": {},
     "output_type": "execute_result"
    }
   ],
   "source": [
    "pickwinner2()"
   ]
  },
  {
   "cell_type": "code",
   "execution_count": 217,
   "id": "2122d05a",
   "metadata": {},
   "outputs": [],
   "source": [
    "def playgame2(numberplays): #Play a 2-door game, no reveal, switch doors every time\n",
    "    \n",
    "    scorekeeper = [] #list to keep track of wins and losses - will it be closer to 50% or 66%?\n",
    "    numberplayed = 0\n",
    "    \n",
    "    while numberplayed < numberplays:\n",
    "        \n",
    "        winner = pickwinner2() #pick winner at random\n",
    "        guess = pickguess2()   #pick guess at random\n",
    "        #reveal = revealfirst(winner, guess) #reveal a non-winning door - in this version, there is no reveal\n",
    "        \n",
    "        doors = [1, 2] # Two possible doors from the get-go.\n",
    "        #doors.remove(reveal) #remove the revealed door from the final choice options\n",
    "        doors.remove(guess)  #since we are going to switch every time, remove our original guess from the list\n",
    "        \n",
    "        switchchoice = doors[0]  #Our final choice (switchchoice) is the value that remains\n",
    "        \n",
    "        if switchchoice == winner:\n",
    "            scorekeeper.append(1) #write a 1 to the list for every time we win with this strategy\n",
    "        else:\n",
    "            scorekeeper.append(0) #write a 0 to the list for every time we lose with this strategy\n",
    "        \n",
    "        numberplayed += 1\n",
    "    \n",
    "    percentwin = round(sum(scorekeeper)/numberplays, 4) * 100  #calculate our percentage of wins\n",
    "    \n",
    "    print(\"Switching strategy (2-door version) wins {}% of the time.\".format(percentwin))"
   ]
  },
  {
   "cell_type": "code",
   "execution_count": 218,
   "id": "d9ed4589",
   "metadata": {},
   "outputs": [
    {
     "name": "stdout",
     "output_type": "stream",
     "text": [
      "Switching strategy (2-door version) wins 43.0% of the time.\n"
     ]
    }
   ],
   "source": [
    "playgame2(100)"
   ]
  },
  {
   "cell_type": "code",
   "execution_count": 219,
   "id": "ddca65c1",
   "metadata": {},
   "outputs": [
    {
     "name": "stdout",
     "output_type": "stream",
     "text": [
      "Switching strategy (2-door version) wins 49.1% of the time.\n"
     ]
    }
   ],
   "source": [
    "playgame2(1000)"
   ]
  },
  {
   "cell_type": "code",
   "execution_count": 220,
   "id": "4954992a",
   "metadata": {},
   "outputs": [
    {
     "name": "stdout",
     "output_type": "stream",
     "text": [
      "Switching strategy (2-door version) wins 49.730000000000004% of the time.\n"
     ]
    }
   ],
   "source": [
    "playgame2(10000)"
   ]
  },
  {
   "cell_type": "code",
   "execution_count": 221,
   "id": "914164ef",
   "metadata": {},
   "outputs": [
    {
     "name": "stdout",
     "output_type": "stream",
     "text": [
      "Switching strategy (2-door version) wins 50.28% of the time.\n"
     ]
    }
   ],
   "source": [
    "playgame2(100000)"
   ]
  },
  {
   "cell_type": "markdown",
   "id": "d663a3fd",
   "metadata": {},
   "source": [
    "## OK, so the universe still works the way I think it should - if only two doors are the starting condition, then switching vs. not is roughly a 50/50 proposition."
   ]
  },
  {
   "cell_type": "markdown",
   "id": "f6dd8c90",
   "metadata": {},
   "source": [
    "# BUT WAIT!!!"
   ]
  },
  {
   "cell_type": "markdown",
   "id": "3b925e36",
   "metadata": {},
   "source": [
    "## WHY IS THIS DIFFERENT? And can we break the statistics? Let's find out."
   ]
  },
  {
   "cell_type": "markdown",
   "id": "759d3f21",
   "metadata": {},
   "source": [
    "## Let's add a wrinkle to the Monty Hall Problem and make it a two-player game. The first player picks a door, one incorrect option is revealed and removed. But this time, instead of that player making the choice whether to switch or not, we switch players. The new player has no awareness of the starting conditions of the game. The only thing they know is that there are two doors, and the first player chose one of them (and this choice is known.) The second player is then given the option - do they stick with the original player's choice, or do they switch to the other door?"
   ]
  },
  {
   "cell_type": "markdown",
   "id": "9b7c558e",
   "metadata": {},
   "source": [
    "## Put another way - is it the players knowledge of the initial conditions that affects the outcome (as weird as that sounds) or will the outcome be different for the second player based on the initial conditions, despite the fact they did not know them?"
   ]
  },
  {
   "cell_type": "markdown",
   "id": "3207ff8e",
   "metadata": {},
   "source": [
    "## To start, let's play the first half of the game, whose outputs will serve as the inputs for the second half."
   ]
  },
  {
   "cell_type": "code",
   "execution_count": 249,
   "id": "b1db66d9",
   "metadata": {},
   "outputs": [
    {
     "name": "stdout",
     "output_type": "stream",
     "text": [
      "3\n",
      "3\n"
     ]
    }
   ],
   "source": [
    "winner = pickwinner() #pick winner at random\n",
    "print(winner)\n",
    "guess = pickguess()   #pick guess at random\n",
    "print(guess)\n",
    "\n",
    "def MH_interrupted(winner, guess):\n",
    "    #print(winner)\n",
    "    reveal = revealfirst(winner, guess) #reveal a non-winning door\n",
    "        \n",
    "    doors = [1, 2, 3]\n",
    "    doors.remove(reveal) #remove the revealed door from the final choice options \n",
    "    #print(doors)\n",
    "    \n",
    "    return doors"
   ]
  },
  {
   "cell_type": "code",
   "execution_count": 250,
   "id": "f227d731",
   "metadata": {},
   "outputs": [],
   "source": [
    "doortochoose = MH_interrupted(winner, guess)"
   ]
  },
  {
   "cell_type": "code",
   "execution_count": 251,
   "id": "1f86cd0a",
   "metadata": {},
   "outputs": [
    {
     "data": {
      "text/plain": [
       "[2, 3]"
      ]
     },
     "execution_count": 251,
     "metadata": {},
     "output_type": "execute_result"
    }
   ],
   "source": [
    "doortochoose"
   ]
  },
  {
   "cell_type": "markdown",
   "id": "1364b11a",
   "metadata": {},
   "source": [
    "## The output of MH_interrupted will always return the the winning door. If the winning door is different from the guess, the guess will be the other door. If it is the same as the guess, the other choice will be random."
   ]
  },
  {
   "cell_type": "markdown",
   "id": "dc5b419b",
   "metadata": {},
   "source": [
    "## Now we build a new function that uses this list of doors and the initial guess as starting points, and then switches to the other option and evaluates whether this is a winner or loser."
   ]
  },
  {
   "cell_type": "code",
   "execution_count": 292,
   "id": "da9a51fa",
   "metadata": {},
   "outputs": [],
   "source": [
    "def final_guess(doors, winner, guess):\n",
    "    \n",
    "    #print(\"doors = {}\".format(doors))\n",
    "    #print(\"winner = {}\".format(winner))\n",
    "    #print(\"first guess = {}\".format(guess))\n",
    "    \n",
    "    if guess == doors[0]:\n",
    "        switch = doors[1]\n",
    "    else:\n",
    "        switch = doors[0]\n",
    "    \n",
    "    #print(\"switched guess = {}\".format(switch))\n",
    "                \n",
    "    if switch == winner:\n",
    "        return 1\n",
    "    else:\n",
    "        return 0 "
   ]
  },
  {
   "cell_type": "markdown",
   "id": "818f616e",
   "metadata": {},
   "source": [
    "## Now we put this all together."
   ]
  },
  {
   "cell_type": "code",
   "execution_count": 293,
   "id": "f31ccbc2",
   "metadata": {},
   "outputs": [],
   "source": [
    "def playgame4(numberplays):\n",
    "    \n",
    "    scorekeeper = []\n",
    "    numberplayed = 0\n",
    "    \n",
    "    while numberplayed < numberplays:\n",
    "        \n",
    "        winner = pickwinner()\n",
    "        guess = pickguess()\n",
    "        doors = MH_interrupted(winner, guess)\n",
    "        \n",
    "        outcome = final_guess(doors, winner, guess)\n",
    "        \n",
    "        scorekeeper.append(outcome)\n",
    "        numberplayed += 1\n",
    "    \n",
    "    percentwin = round(sum(scorekeeper)/numberplays, 4) * 100  #calculate our percentage of wins\n",
    "    \n",
    "    print(\"Switching strategy (2-door MH_interrupted version) wins {}% of the time.\".format(percentwin))    \n",
    "    "
   ]
  },
  {
   "cell_type": "code",
   "execution_count": 294,
   "id": "eed5a2e6",
   "metadata": {},
   "outputs": [
    {
     "name": "stdout",
     "output_type": "stream",
     "text": [
      "Switching strategy (2-door MH_interrupted version) wins 66.10000000000001% of the time.\n"
     ]
    }
   ],
   "source": [
    "playgame4(1000)"
   ]
  },
  {
   "cell_type": "markdown",
   "id": "c2d46810",
   "metadata": {},
   "source": [
    "## OK, so it looks like our initial conditions hold. Let's try the game with our starting point as two doors:"
   ]
  },
  {
   "cell_type": "code",
   "execution_count": 295,
   "id": "f87ef859",
   "metadata": {},
   "outputs": [],
   "source": [
    "def playgame5(numberplays):\n",
    "    \n",
    "    scorekeeper = []\n",
    "    numberplayed = 0\n",
    "    \n",
    "    while numberplayed < numberplays:\n",
    "        \n",
    "        winner = pickwinner2()\n",
    "        guess = pickguess2()\n",
    "        doors = [1,2] #Changed the lines above to the two-door starting point, and then doors is always known\n",
    "        \n",
    "        outcome = final_guess(doors, winner, guess)\n",
    "        \n",
    "        scorekeeper.append(outcome)\n",
    "        numberplayed += 1\n",
    "    \n",
    "    percentwin = round(sum(scorekeeper)/numberplays, 4) * 100  #calculate our percentage of wins\n",
    "    \n",
    "    print(\"Switching strategy (2-door initial start version) wins {}% of the time.\".format(percentwin))    "
   ]
  },
  {
   "cell_type": "code",
   "execution_count": 296,
   "id": "93b68338",
   "metadata": {},
   "outputs": [
    {
     "name": "stdout",
     "output_type": "stream",
     "text": [
      "Switching strategy (2-door initial start version) wins 48.1% of the time.\n"
     ]
    }
   ],
   "source": [
    "playgame5(1000)"
   ]
  },
  {
   "cell_type": "markdown",
   "id": "9cd8eb6b",
   "metadata": {},
   "source": [
    "## OK, weirdly stats is holding up here! What happens if we abstract the labels? For example, what was originally door 1, 2, and 3 get reduced to two doors, and then those labels get changed. This shouldn't change the outcome, but will it?"
   ]
  },
  {
   "cell_type": "code",
   "execution_count": 303,
   "id": "1fd1b8fa",
   "metadata": {},
   "outputs": [],
   "source": [
    "def playgame6(numberplays):\n",
    "    \n",
    "    scorekeeper = []\n",
    "    numberplayed = 0\n",
    "    \n",
    "    while numberplayed < numberplays:\n",
    "        \n",
    "        winner = pickwinner()\n",
    "        guess = pickguess()\n",
    "        doors = MH_interrupted(winner, guess)\n",
    "        #print(doors)\n",
    "        \n",
    "        if winner == doors[0]:\n",
    "            winner = 'A'\n",
    "        else:\n",
    "            winner = 'B'\n",
    "        \n",
    "        if guess == doors[0]:\n",
    "            guess = 'A'\n",
    "        else:\n",
    "            guess = 'B'\n",
    "        \n",
    "        doors[0] = 'A'\n",
    "        doors[1] = 'B'\n",
    "        \n",
    "        #print(doors)\n",
    "        \n",
    "        outcome = final_guess(doors, winner, guess)\n",
    "        \n",
    "        scorekeeper.append(outcome)\n",
    "        numberplayed += 1\n",
    "    \n",
    "    percentwin = round(sum(scorekeeper)/numberplays, 4) * 100  #calculate our percentage of wins\n",
    "    \n",
    "    print(\"Switching strategy (2-door MH_interrupted version) wins {}% of the time.\".format(percentwin))    \n",
    "    "
   ]
  },
  {
   "cell_type": "code",
   "execution_count": 304,
   "id": "08b9e611",
   "metadata": {},
   "outputs": [
    {
     "name": "stdout",
     "output_type": "stream",
     "text": [
      "Switching strategy (2-door MH_interrupted version) wins 67.0% of the time.\n"
     ]
    }
   ],
   "source": [
    "playgame6(100)"
   ]
  },
  {
   "cell_type": "markdown",
   "id": "9b9d79e3",
   "metadata": {},
   "source": [
    "## So switching the labels on a per iteration basis doesn't affect anything. What if we break the two steps completely apart?"
   ]
  },
  {
   "cell_type": "code",
   "execution_count": 305,
   "id": "fe9e5c66",
   "metadata": {},
   "outputs": [],
   "source": [
    "def builddata(numberplays):\n",
    "    \n",
    "    output = []\n",
    "    numberplayed = 0\n",
    "    \n",
    "    while numberplayed < numberplays:\n",
    "        \n",
    "        winner = pickwinner()\n",
    "        guess = pickguess()\n",
    "        doors = MH_interrupted(winner, guess)\n",
    "        #print(doors)\n",
    "        \n",
    "        if winner == doors[0]:\n",
    "            winner = 'A'\n",
    "        else:\n",
    "            winner = 'B'\n",
    "        \n",
    "        if guess == doors[0]:\n",
    "            guess = 'A'\n",
    "        else:\n",
    "            guess = 'B'\n",
    "        \n",
    "        doors[0] = 'A'\n",
    "        doors[1] = 'B'\n",
    "        \n",
    "        output.append([winner, guess, doors])\n",
    "        \n",
    "        numberplayed += 1\n",
    "    \n",
    "    return output"
   ]
  },
  {
   "cell_type": "code",
   "execution_count": 332,
   "id": "9d0c6663",
   "metadata": {},
   "outputs": [],
   "source": [
    "startingpoint = builddata(1000)"
   ]
  },
  {
   "cell_type": "code",
   "execution_count": 336,
   "id": "3a707bee",
   "metadata": {},
   "outputs": [
    {
     "data": {
      "text/plain": [
       "[['B', 'B', ['A', 'B']],\n",
       " ['B', 'B', ['A', 'B']],\n",
       " ['B', 'B', ['A', 'B']],\n",
       " ['B', 'A', ['A', 'B']],\n",
       " ['B', 'A', ['A', 'B']],\n",
       " ['B', 'A', ['A', 'B']],\n",
       " ['A', 'B', ['A', 'B']],\n",
       " ['A', 'B', ['A', 'B']],\n",
       " ['A', 'B', ['A', 'B']],\n",
       " ['A', 'A', ['A', 'B']],\n",
       " ['A', 'A', ['A', 'B']],\n",
       " ['A', 'A', ['A', 'B']],\n",
       " ['B', 'B', ['A', 'B']],\n",
       " ['A', 'B', ['A', 'B']],\n",
       " ['B', 'A', ['A', 'B']],\n",
       " ['A', 'B', ['A', 'B']],\n",
       " ['A', 'A', ['A', 'B']],\n",
       " ['A', 'A', ['A', 'B']],\n",
       " ['A', 'B', ['A', 'B']],\n",
       " ['A', 'B', ['A', 'B']]]"
      ]
     },
     "execution_count": 336,
     "metadata": {},
     "output_type": "execute_result"
    }
   ],
   "source": [
    "startingpoint[:20]"
   ]
  },
  {
   "cell_type": "code",
   "execution_count": 334,
   "id": "afd6ba52",
   "metadata": {},
   "outputs": [],
   "source": [
    "x = 0\n",
    "scorekeeper = []\n",
    "for row in startingpoint:\n",
    "    inputs = startingpoint[x]\n",
    "    correct = inputs[0]\n",
    "    chosen = inputs[1]\n",
    "    dooroptions = inputs[2]\n",
    "    x += 1\n",
    "    \n",
    "    outcome = final_guess(dooroptions, correct, chosen)\n",
    "    scorekeeper.append(outcome)"
   ]
  },
  {
   "cell_type": "code",
   "execution_count": 335,
   "id": "15e4f181",
   "metadata": {},
   "outputs": [
    {
     "data": {
      "text/plain": [
       "0.668"
      ]
     },
     "execution_count": 335,
     "metadata": {},
     "output_type": "execute_result"
    }
   ],
   "source": [
    "import numpy as np\n",
    "np.mean(scorekeeper)"
   ]
  },
  {
   "cell_type": "code",
   "execution_count": 343,
   "id": "6e008d07",
   "metadata": {},
   "outputs": [],
   "source": [
    "def builddata2(numberplays):\n",
    "    \n",
    "    output = []\n",
    "    numberplayed = 0\n",
    "    \n",
    "    while numberplayed < numberplays:\n",
    "        \n",
    "        winner = pickwinner()\n",
    "        guess = pickguess()\n",
    "        doors = MH_interrupted(winner, guess)\n",
    "        #print(doors)\n",
    "        \n",
    "        output.append([winner, guess])\n",
    "        \n",
    "        numberplayed += 1\n",
    "    \n",
    "    return output"
   ]
  },
  {
   "cell_type": "code",
   "execution_count": 363,
   "id": "2e6c42d2",
   "metadata": {},
   "outputs": [],
   "source": [
    "start2 = builddata2(1000)"
   ]
  },
  {
   "cell_type": "code",
   "execution_count": 364,
   "id": "3d0dcc17",
   "metadata": {},
   "outputs": [],
   "source": [
    "x = 0\n",
    "TorF = []\n",
    "for row in start2:\n",
    "    if start2[x][0]==start2[x][1]:\n",
    "        TorF.append(1)\n",
    "    else:\n",
    "        TorF.append(0)\n",
    "    \n",
    "    x += 1"
   ]
  },
  {
   "cell_type": "code",
   "execution_count": 365,
   "id": "4d0d3377",
   "metadata": {},
   "outputs": [
    {
     "data": {
      "text/plain": [
       "0.325"
      ]
     },
     "execution_count": 365,
     "metadata": {},
     "output_type": "execute_result"
    }
   ],
   "source": [
    "np.mean(TorF)"
   ]
  },
  {
   "cell_type": "code",
   "execution_count": null,
   "id": "b9a5e1ac",
   "metadata": {},
   "outputs": [],
   "source": []
  },
  {
   "cell_type": "code",
   "execution_count": null,
   "id": "66e6e873",
   "metadata": {},
   "outputs": [],
   "source": []
  },
  {
   "cell_type": "code",
   "execution_count": null,
   "id": "1c438d7a",
   "metadata": {},
   "outputs": [],
   "source": []
  }
 ],
 "metadata": {
  "kernelspec": {
   "display_name": "Python [conda env:Py3.7]",
   "language": "python",
   "name": "conda-env-Py3.7-py"
  },
  "language_info": {
   "codemirror_mode": {
    "name": "ipython",
    "version": 3
   },
   "file_extension": ".py",
   "mimetype": "text/x-python",
   "name": "python",
   "nbconvert_exporter": "python",
   "pygments_lexer": "ipython3",
   "version": "3.7.13"
  }
 },
 "nbformat": 4,
 "nbformat_minor": 5
}
