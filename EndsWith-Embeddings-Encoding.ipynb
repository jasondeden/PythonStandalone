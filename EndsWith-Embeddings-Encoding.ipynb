{
 "cells": [
  {
   "cell_type": "markdown",
   "id": "474d90d6",
   "metadata": {},
   "source": [
    "## This notebook is designed to both work through a solution *and* demonstrate a systematic way to approach a coding challenge, including tests, validating on small data sets, and trying different approaches."
   ]
  },
  {
   "cell_type": "code",
   "execution_count": 50,
   "id": "4ca9cc91",
   "metadata": {},
   "outputs": [],
   "source": [
    "import numpy as np"
   ]
  },
  {
   "cell_type": "code",
   "execution_count": 51,
   "id": "0f479e94",
   "metadata": {},
   "outputs": [],
   "source": [
    "names = ['jason', 'Rajasheker', 'Sudhukar', 'Billy','Bobby']"
   ]
  },
  {
   "cell_type": "code",
   "execution_count": 52,
   "id": "e295728e",
   "metadata": {},
   "outputs": [
    {
     "data": {
      "text/plain": [
       "['jason', 'Rajasheker', 'Sudhukar', 'Billy', 'Bobby']"
      ]
     },
     "execution_count": 52,
     "metadata": {},
     "output_type": "execute_result"
    }
   ],
   "source": [
    "names"
   ]
  },
  {
   "cell_type": "code",
   "execution_count": 53,
   "id": "f33dcff9",
   "metadata": {},
   "outputs": [],
   "source": [
    "#Let's try some subsetting / indexing experiments"
   ]
  },
  {
   "cell_type": "code",
   "execution_count": 54,
   "id": "2b058839",
   "metadata": {
    "scrolled": true
   },
   "outputs": [
    {
     "data": {
      "text/plain": [
       "'Bobby'"
      ]
     },
     "execution_count": 54,
     "metadata": {},
     "output_type": "execute_result"
    }
   ],
   "source": [
    "names[-1]  #Since this is a list, it will pick the last item in the list, not the last letter of each item"
   ]
  },
  {
   "cell_type": "code",
   "execution_count": 55,
   "id": "0bd35d89",
   "metadata": {},
   "outputs": [
    {
     "data": {
      "text/plain": [
       "'y'"
      ]
     },
     "execution_count": 55,
     "metadata": {},
     "output_type": "execute_result"
    }
   ],
   "source": [
    "names[-1][-1] #However, I can also subset a subset, so this could be a way to isolate the last character"
   ]
  },
  {
   "cell_type": "code",
   "execution_count": 56,
   "id": "45cbf94a",
   "metadata": {},
   "outputs": [],
   "source": [
    "#Now that I have figured out the logic to isolate the last character in each name, how do I do this\n",
    "#programmatically - say, if I had a list of 1000 names? Maybe try a simple for loop approach to test the logic"
   ]
  },
  {
   "cell_type": "code",
   "execution_count": 57,
   "id": "81b2497e",
   "metadata": {},
   "outputs": [
    {
     "name": "stdout",
     "output_type": "stream",
     "text": [
      "n\n",
      "r\n",
      "r\n",
      "y\n",
      "y\n"
     ]
    }
   ],
   "source": [
    "for name in names:\n",
    "    eval = name[-1]\n",
    "    print(eval) "
   ]
  },
  {
   "cell_type": "code",
   "execution_count": 58,
   "id": "50076255",
   "metadata": {},
   "outputs": [],
   "source": [
    "#Note that I'm testing the logic on a much smaller subset of data. This allows me to make sure I'm getting\n",
    "#the outputs I expect and can understand what I'm seeing. Also note, I'm not actually storing any values or\n",
    "#returning any values at this point. This is a logic test. I'm not writing the function yet."
   ]
  },
  {
   "cell_type": "code",
   "execution_count": 59,
   "id": "3249aa14",
   "metadata": {},
   "outputs": [],
   "source": [
    "#From here I could create a number of ways to evaluate the problem. I could write a bunch of if statements\n",
    "#to check if the letters I'm pulling out are in the list of characters I care about, or I could use\n",
    "#the NumPy isin function to do the work for me. One way to approach this might be:"
   ]
  },
  {
   "cell_type": "code",
   "execution_count": 60,
   "id": "534cd4a6",
   "metadata": {},
   "outputs": [
    {
     "name": "stdout",
     "output_type": "stream",
     "text": [
      "['n']\n",
      "['n', 'r']\n",
      "['n', 'r', 'r']\n",
      "['n', 'r', 'r', 'y']\n",
      "['n', 'r', 'r', 'y', 'y']\n"
     ]
    }
   ],
   "source": [
    "#Start by creating an empty list to store the characters to be evaluated.\n",
    "lastchars = []\n",
    "\n",
    "#Next, let's implement the logic that I know works and fill out the list\n",
    "for name in names:\n",
    "    eval = name[-1]\n",
    "    #print(eval) - commented out because I no longer need to validate this works as expected.\n",
    "    lastchars.append(eval)\n",
    "    #Let's print this at each step to make sure it's building like we expect\n",
    "    print(lastchars)"
   ]
  },
  {
   "cell_type": "code",
   "execution_count": 61,
   "id": "142d1190",
   "metadata": {},
   "outputs": [
    {
     "data": {
      "text/plain": [
       "['n', 'r', 'r', 'y', 'y']"
      ]
     },
     "execution_count": 61,
     "metadata": {},
     "output_type": "execute_result"
    }
   ],
   "source": [
    "#And now let's make sure we've stored this properly outside of the for loop\n",
    "lastchars"
   ]
  },
  {
   "cell_type": "code",
   "execution_count": 62,
   "id": "a6d98531",
   "metadata": {},
   "outputs": [],
   "source": [
    "#OK, cool. Now we can either create another loop to evaluate each character, or utilize \n",
    "#NumPy's isin function. To simplify, let's create the list to evaluate before we do this."
   ]
  },
  {
   "cell_type": "code",
   "execution_count": 63,
   "id": "dd980f95",
   "metadata": {},
   "outputs": [],
   "source": [
    "vowels = ['a', 'e', 'i','o','u','y']"
   ]
  },
  {
   "cell_type": "code",
   "execution_count": 64,
   "id": "4371da4a",
   "metadata": {},
   "outputs": [],
   "source": [
    "#And now, following the documentation, let's see what we get (again, not storing anything yet, \n",
    "#just looking at outputs)"
   ]
  },
  {
   "cell_type": "code",
   "execution_count": 65,
   "id": "66c0547c",
   "metadata": {},
   "outputs": [
    {
     "data": {
      "text/plain": [
       "array([False, False, False,  True,  True])"
      ]
     },
     "execution_count": 65,
     "metadata": {},
     "output_type": "execute_result"
    }
   ],
   "source": [
    "np.isin(lastchars, vowels)"
   ]
  },
  {
   "cell_type": "code",
   "execution_count": 66,
   "id": "9fa4673b",
   "metadata": {},
   "outputs": [],
   "source": [
    "#This appears to be working properly now. "
   ]
  },
  {
   "cell_type": "code",
   "execution_count": 71,
   "id": "75e24752",
   "metadata": {},
   "outputs": [
    {
     "data": {
      "text/plain": [
       "array([False, False, False,  True,  True])"
      ]
     },
     "execution_count": 71,
     "metadata": {},
     "output_type": "execute_result"
    }
   ],
   "source": [
    "#Let's try the other approach, using the NumPy char.endswith function to test for the letter 'y'\n",
    "#without having to first pull out the last letter from each name.\n",
    "np.char.endswith(names, 'y')"
   ]
  },
  {
   "cell_type": "code",
   "execution_count": 72,
   "id": "f0cf0770",
   "metadata": {},
   "outputs": [
    {
     "ename": "ValueError",
     "evalue": "shape mismatch: objects cannot be broadcast to a single shape",
     "output_type": "error",
     "traceback": [
      "\u001b[0;31m---------------------------------------------------------------------------\u001b[0m",
      "\u001b[0;31mValueError\u001b[0m                                Traceback (most recent call last)",
      "\u001b[0;32m/var/folders/w1/v8x3p_k90rv3gff4rph9wkpc0000gn/T/ipykernel_9327/1164229749.py\u001b[0m in \u001b[0;36m<module>\u001b[0;34m\u001b[0m\n\u001b[1;32m      1\u001b[0m \u001b[0;31m#OK, this worked and seems simpler. However, there's a catch.\u001b[0m\u001b[0;34m\u001b[0m\u001b[0;34m\u001b[0m\u001b[0;34m\u001b[0m\u001b[0m\n\u001b[1;32m      2\u001b[0m \u001b[0;34m\u001b[0m\u001b[0m\n\u001b[0;32m----> 3\u001b[0;31m \u001b[0mnp\u001b[0m\u001b[0;34m.\u001b[0m\u001b[0mchar\u001b[0m\u001b[0;34m.\u001b[0m\u001b[0mendswith\u001b[0m\u001b[0;34m(\u001b[0m\u001b[0mnames\u001b[0m\u001b[0;34m,\u001b[0m \u001b[0mvowels\u001b[0m\u001b[0;34m)\u001b[0m\u001b[0;34m\u001b[0m\u001b[0;34m\u001b[0m\u001b[0m\n\u001b[0m",
      "\u001b[0;32m<__array_function__ internals>\u001b[0m in \u001b[0;36mendswith\u001b[0;34m(*args, **kwargs)\u001b[0m\n",
      "\u001b[0;32m~/opt/anaconda3/envs/Py3.7/lib/python3.7/site-packages/numpy/core/defchararray.py\u001b[0m in \u001b[0;36mendswith\u001b[0;34m(a, suffix, start, end)\u001b[0m\n\u001b[1;32m    639\u001b[0m     \"\"\"\n\u001b[1;32m    640\u001b[0m     return _vec_string(\n\u001b[0;32m--> 641\u001b[0;31m         a, bool_, 'endswith', [suffix, start] + _clean_args(end))\n\u001b[0m\u001b[1;32m    642\u001b[0m \u001b[0;34m\u001b[0m\u001b[0m\n\u001b[1;32m    643\u001b[0m \u001b[0;34m\u001b[0m\u001b[0m\n",
      "\u001b[0;31mValueError\u001b[0m: shape mismatch: objects cannot be broadcast to a single shape"
     ]
    }
   ],
   "source": [
    "#OK, this worked and seems simpler. However, there's a catch.\n",
    "\n",
    "np.char.endswith(names, vowels)"
   ]
  },
  {
   "cell_type": "code",
   "execution_count": 73,
   "id": "586d7e52",
   "metadata": {},
   "outputs": [],
   "source": [
    "#Now, instead of having to pull out the last set of characters and run them through a list to check, \n",
    "#we have to try every name in our names list separately for each vowel."
   ]
  },
  {
   "cell_type": "code",
   "execution_count": 74,
   "id": "cedd9b88",
   "metadata": {},
   "outputs": [],
   "source": [
    "#Which approach is better, do you think, and why do you think that?"
   ]
  },
  {
   "cell_type": "code",
   "execution_count": 81,
   "id": "29406388",
   "metadata": {},
   "outputs": [],
   "source": [
    "#One last tip - what if I wanted to return the opposite?"
   ]
  },
  {
   "cell_type": "code",
   "execution_count": 77,
   "id": "a48888a2",
   "metadata": {},
   "outputs": [
    {
     "data": {
      "text/plain": [
       "array([ True,  True,  True, False, False])"
      ]
     },
     "execution_count": 77,
     "metadata": {},
     "output_type": "execute_result"
    }
   ],
   "source": [
    "np.logical_not(np.char.endswith(names, 'y'))"
   ]
  },
  {
   "cell_type": "code",
   "execution_count": 80,
   "id": "6fd7ad1a",
   "metadata": {},
   "outputs": [
    {
     "data": {
      "text/plain": [
       "array([ True,  True,  True, False, False])"
      ]
     },
     "execution_count": 80,
     "metadata": {},
     "output_type": "execute_result"
    }
   ],
   "source": [
    "np.logical_not(np.isin(lastchars, vowels))"
   ]
  },
  {
   "cell_type": "markdown",
   "id": "0c273f18",
   "metadata": {},
   "source": [
    "### By Jason Eden"
   ]
  },
  {
   "cell_type": "code",
   "execution_count": null,
   "id": "36286a7f",
   "metadata": {},
   "outputs": [],
   "source": []
  }
 ],
 "metadata": {
  "kernelspec": {
   "display_name": "Python [conda env:Py3.7]",
   "language": "python",
   "name": "conda-env-Py3.7-py"
  },
  "language_info": {
   "codemirror_mode": {
    "name": "ipython",
    "version": 3
   },
   "file_extension": ".py",
   "mimetype": "text/x-python",
   "name": "python",
   "nbconvert_exporter": "python",
   "pygments_lexer": "ipython3",
   "version": "3.7.13"
  }
 },
 "nbformat": 4,
 "nbformat_minor": 5
}
