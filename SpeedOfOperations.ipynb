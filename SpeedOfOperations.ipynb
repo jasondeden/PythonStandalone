{
 "cells": [
  {
   "cell_type": "markdown",
   "id": "15e325e4",
   "metadata": {},
   "source": [
    "# How Fast Can We Go?"
   ]
  },
  {
   "cell_type": "markdown",
   "id": "bba41567",
   "metadata": {},
   "source": [
    "## This notebook demonstrates relative speed differences between various coding approaches for a simple find and replace operation. Approaches compared are numpy.where(), vectorized Python, for loops, and list comprehensions."
   ]
  },
  {
   "cell_type": "markdown",
   "id": "e2f35d29",
   "metadata": {},
   "source": [
    "### Set up the tests"
   ]
  },
  {
   "cell_type": "code",
   "execution_count": 1,
   "id": "555c7258",
   "metadata": {},
   "outputs": [],
   "source": [
    "import numpy as np"
   ]
  },
  {
   "cell_type": "markdown",
   "id": "41dca0c3",
   "metadata": {},
   "source": [
    "Create an array of 100 million 1's and 0's"
   ]
  },
  {
   "cell_type": "code",
   "execution_count": 2,
   "id": "f24b8ab4",
   "metadata": {},
   "outputs": [
    {
     "data": {
      "text/plain": [
       "array([0, 1])"
      ]
     },
     "execution_count": 2,
     "metadata": {},
     "output_type": "execute_result"
    }
   ],
   "source": [
    "largedata = np.random.randint(0,2,100000000)\n",
    "np.unique(largedata)"
   ]
  },
  {
   "cell_type": "markdown",
   "id": "75f31177",
   "metadata": {},
   "source": [
    "Create an array of just 100 1's and 0's"
   ]
  },
  {
   "cell_type": "code",
   "execution_count": 3,
   "id": "de9ce7c6",
   "metadata": {},
   "outputs": [
    {
     "data": {
      "text/plain": [
       "array([0, 1])"
      ]
     },
     "execution_count": 3,
     "metadata": {},
     "output_type": "execute_result"
    }
   ],
   "source": [
    "smalldata = np.random.randint(0,2,100)\n",
    "np.unique(smalldata)"
   ]
  },
  {
   "cell_type": "markdown",
   "id": "ee463871",
   "metadata": {},
   "source": [
    "## numpy.where vs. vectorized approach on largedata"
   ]
  },
  {
   "cell_type": "markdown",
   "id": "5b6ce42e",
   "metadata": {},
   "source": [
    "Use NumPy function (np.where) to change all 0's to -1's on largedata and time it."
   ]
  },
  {
   "cell_type": "code",
   "execution_count": 4,
   "id": "9a372804",
   "metadata": {},
   "outputs": [
    {
     "name": "stdout",
     "output_type": "stream",
     "text": [
      "CPU times: user 157 ms, sys: 157 ms, total: 314 ms\n",
      "Wall time: 309 ms\n"
     ]
    }
   ],
   "source": [
    "%time largedata = np.where(largedata < 1, -1, 1)"
   ]
  },
  {
   "cell_type": "markdown",
   "id": "159ab22c",
   "metadata": {},
   "source": [
    "* On my laptop, this usually averaged around 300 milliseconds"
   ]
  },
  {
   "cell_type": "markdown",
   "id": "82ed2ad9",
   "metadata": {},
   "source": [
    "Confirm array changed as expected"
   ]
  },
  {
   "cell_type": "code",
   "execution_count": 5,
   "id": "c1ac8ee7",
   "metadata": {},
   "outputs": [
    {
     "data": {
      "text/plain": [
       "array([-1,  1])"
      ]
     },
     "execution_count": 5,
     "metadata": {},
     "output_type": "execute_result"
    }
   ],
   "source": [
    "np.unique(largedata)"
   ]
  },
  {
   "cell_type": "markdown",
   "id": "854e7c9a",
   "metadata": {},
   "source": [
    "Create a vectorized action to change the -1's to 0 and time it"
   ]
  },
  {
   "cell_type": "code",
   "execution_count": 6,
   "id": "57a23834",
   "metadata": {},
   "outputs": [
    {
     "name": "stdout",
     "output_type": "stream",
     "text": [
      "CPU times: user 566 ms, sys: 4 ms, total: 570 ms\n",
      "Wall time: 566 ms\n"
     ]
    }
   ],
   "source": [
    "%time largedata[largedata == -1] = 0"
   ]
  },
  {
   "cell_type": "markdown",
   "id": "9385d3b9",
   "metadata": {},
   "source": [
    "* On my laptop, this usually averaged around 580 milliseconds"
   ]
  },
  {
   "cell_type": "markdown",
   "id": "25130ef5",
   "metadata": {},
   "source": [
    "Confirm list was changed"
   ]
  },
  {
   "cell_type": "code",
   "execution_count": 7,
   "id": "9cf83966",
   "metadata": {},
   "outputs": [
    {
     "data": {
      "text/plain": [
       "array([0, 1])"
      ]
     },
     "execution_count": 7,
     "metadata": {},
     "output_type": "execute_result"
    }
   ],
   "source": [
    "np.unique(largedata)"
   ]
  },
  {
   "cell_type": "markdown",
   "id": "f24ce2e6",
   "metadata": {},
   "source": [
    "## numpy.where vs. vectorized approach on smalldata"
   ]
  },
  {
   "cell_type": "markdown",
   "id": "8f37bbf3",
   "metadata": {},
   "source": [
    "Now compare the approaches on smalldata"
   ]
  },
  {
   "cell_type": "code",
   "execution_count": 12,
   "id": "50b8685f",
   "metadata": {},
   "outputs": [
    {
     "name": "stdout",
     "output_type": "stream",
     "text": [
      "CPU times: user 100 µs, sys: 2 µs, total: 102 µs\n",
      "Wall time: 109 µs\n"
     ]
    }
   ],
   "source": [
    "%time smalldata = np.where(smalldata < 1, -1, 1)"
   ]
  },
  {
   "cell_type": "markdown",
   "id": "c7676ae3",
   "metadata": {},
   "source": [
    "* On my laptop, this usually averaged around 110 microseconds"
   ]
  },
  {
   "cell_type": "code",
   "execution_count": 13,
   "id": "be8ff6fc",
   "metadata": {},
   "outputs": [
    {
     "name": "stdout",
     "output_type": "stream",
     "text": [
      "CPU times: user 75 µs, sys: 0 ns, total: 75 µs\n",
      "Wall time: 80.1 µs\n"
     ]
    }
   ],
   "source": [
    "%time smalldata[smalldata == -1] = 0"
   ]
  },
  {
   "cell_type": "markdown",
   "id": "f0d32df7",
   "metadata": {},
   "source": [
    "* On my laptop, this usually averaged around 80 microseconds"
   ]
  },
  {
   "cell_type": "markdown",
   "id": "2c76e261",
   "metadata": {},
   "source": [
    "### Interesting side note: The NumPy advantage here goes away as data gets smaller, and in fact when I tested the array size of 100 instead of 100 million, the vectorized approach was *faster* than the NumPy approach."
   ]
  },
  {
   "cell_type": "markdown",
   "id": "b1e2a812",
   "metadata": {},
   "source": [
    "## loops and list comprehensions on largedata"
   ]
  },
  {
   "cell_type": "markdown",
   "id": "738ed3b0",
   "metadata": {},
   "source": [
    "Try the really slow way. Define a function that uses a for loop and time its execution"
   ]
  },
  {
   "cell_type": "code",
   "execution_count": 14,
   "id": "f36107b4",
   "metadata": {},
   "outputs": [],
   "source": [
    "def slowloop(data):\n",
    "    for i in range(0,len(data)):\n",
    "        if data[i] < 1:\n",
    "            data[i] = -1\n",
    "    return data"
   ]
  },
  {
   "cell_type": "code",
   "execution_count": 15,
   "id": "445ef4a4",
   "metadata": {},
   "outputs": [
    {
     "name": "stdout",
     "output_type": "stream",
     "text": [
      "CPU times: user 23 s, sys: 40.9 ms, total: 23 s\n",
      "Wall time: 23 s\n"
     ]
    }
   ],
   "source": [
    "%time largedata = slowloop(largedata)"
   ]
  },
  {
   "cell_type": "markdown",
   "id": "4813aa2d",
   "metadata": {},
   "source": [
    "* On my laptop, this usually averaged around 21 seconds"
   ]
  },
  {
   "cell_type": "code",
   "execution_count": 16,
   "id": "6e5d0b80",
   "metadata": {},
   "outputs": [
    {
     "data": {
      "text/plain": [
       "array([-1,  1])"
      ]
     },
     "execution_count": 16,
     "metadata": {},
     "output_type": "execute_result"
    }
   ],
   "source": [
    "np.unique(largedata)"
   ]
  },
  {
   "cell_type": "markdown",
   "id": "7e34854d",
   "metadata": {},
   "source": [
    "Create a list comprehension to change all 0's back to -1 and see how fast it runs"
   ]
  },
  {
   "cell_type": "code",
   "execution_count": 17,
   "id": "16ae7f0a",
   "metadata": {
    "scrolled": true
   },
   "outputs": [
    {
     "name": "stdout",
     "output_type": "stream",
     "text": [
      "CPU times: user 16.3 s, sys: 524 ms, total: 16.8 s\n",
      "Wall time: 16.8 s\n"
     ]
    }
   ],
   "source": [
    "%time largedata = [i if i > 0 else 0 for i in largedata]"
   ]
  },
  {
   "cell_type": "markdown",
   "id": "61a8f0fe",
   "metadata": {},
   "source": [
    "* On my laptop, this usually averaged around 17 seconds"
   ]
  },
  {
   "cell_type": "markdown",
   "id": "e84f44ba",
   "metadata": {},
   "source": [
    "Confirm array is changed"
   ]
  },
  {
   "cell_type": "code",
   "execution_count": 18,
   "id": "fc96e1e1",
   "metadata": {},
   "outputs": [
    {
     "data": {
      "text/plain": [
       "array([0, 1])"
      ]
     },
     "execution_count": 18,
     "metadata": {},
     "output_type": "execute_result"
    }
   ],
   "source": [
    "np.unique(largedata)"
   ]
  },
  {
   "cell_type": "markdown",
   "id": "35dfa8e8",
   "metadata": {},
   "source": [
    "### The for loop and list comprehension approaches are both dramatically slower (30-80x slower) than the numpy.where and vectorized approaches. List comprehension working on a numpy array was about 20% faster than native for loop. However..."
   ]
  },
  {
   "cell_type": "markdown",
   "id": "4cc5ff65",
   "metadata": {},
   "source": [
    "Notice that the list comprehension, as the name would imply, converts the array to a list"
   ]
  },
  {
   "cell_type": "code",
   "execution_count": 19,
   "id": "85ed61d1",
   "metadata": {},
   "outputs": [
    {
     "data": {
      "text/plain": [
       "list"
      ]
     },
     "execution_count": 19,
     "metadata": {},
     "output_type": "execute_result"
    }
   ],
   "source": [
    "type(largedata)"
   ]
  },
  {
   "cell_type": "markdown",
   "id": "93dbf330",
   "metadata": {},
   "source": [
    "Now notice the change in performance for slow loops on a list object vs. an array"
   ]
  },
  {
   "cell_type": "code",
   "execution_count": 20,
   "id": "4fae20cc",
   "metadata": {},
   "outputs": [
    {
     "name": "stdout",
     "output_type": "stream",
     "text": [
      "CPU times: user 11.2 s, sys: 303 ms, total: 11.5 s\n",
      "Wall time: 11.5 s\n"
     ]
    }
   ],
   "source": [
    "%time largedata = slowloop(largedata)"
   ]
  },
  {
   "cell_type": "markdown",
   "id": "31876eb5",
   "metadata": {},
   "source": [
    "* On my laptop, this usually averaged around 11 seconds"
   ]
  },
  {
   "cell_type": "markdown",
   "id": "99c462a8",
   "metadata": {},
   "source": [
    "### If the for loop approach starts with a list vs a NumPy array, the time the operation takes is cut in half. Fascinating."
   ]
  },
  {
   "cell_type": "code",
   "execution_count": 21,
   "id": "212f644b",
   "metadata": {},
   "outputs": [
    {
     "data": {
      "text/plain": [
       "array([-1,  1])"
      ]
     },
     "execution_count": 21,
     "metadata": {},
     "output_type": "execute_result"
    }
   ],
   "source": [
    "np.unique(largedata)"
   ]
  },
  {
   "cell_type": "markdown",
   "id": "0a7990de",
   "metadata": {},
   "source": [
    "Does starting with a list also improve the list comprehension performance?"
   ]
  },
  {
   "cell_type": "code",
   "execution_count": 22,
   "id": "c5007711",
   "metadata": {},
   "outputs": [
    {
     "name": "stdout",
     "output_type": "stream",
     "text": [
      "CPU times: user 8.47 s, sys: 262 ms, total: 8.73 s\n",
      "Wall time: 8.73 s\n"
     ]
    }
   ],
   "source": [
    "%time largedata = [i if i > 0 else 0 for i in largedata]"
   ]
  },
  {
   "cell_type": "markdown",
   "id": "61ac1108",
   "metadata": {},
   "source": [
    "### In both looping scenarios, starting with a list reduced the time to process by approximately 50%. "
   ]
  },
  {
   "cell_type": "markdown",
   "id": "cf9a4498",
   "metadata": {},
   "source": [
    "# Final Analysis"
   ]
  },
  {
   "cell_type": "markdown",
   "id": "33669b45",
   "metadata": {},
   "source": [
    "## On data of any size, using a NumPy function (if one exists that can perform your operation) is going to be faster than any native Python approach.\n",
    "\n",
    "## Vectorized Python smokes any loop-based approach in terms of speed.\n",
    "\n",
    "## List comprehensions outperform native for loops by about 20%, but are still many multiple times slower than vectorized Python.\n",
    "\n",
    "## If using a list comprehension or a for loop, formatting your data as a list will improve performance by approximately 50% vs. using a NumPy array."
   ]
  },
  {
   "cell_type": "code",
   "execution_count": null,
   "id": "12e8e52c",
   "metadata": {},
   "outputs": [],
   "source": []
  }
 ],
 "metadata": {
  "kernelspec": {
   "display_name": "Python 3 (ipykernel)",
   "language": "python",
   "name": "python3"
  },
  "language_info": {
   "codemirror_mode": {
    "name": "ipython",
    "version": 3
   },
   "file_extension": ".py",
   "mimetype": "text/x-python",
   "name": "python",
   "nbconvert_exporter": "python",
   "pygments_lexer": "ipython3",
   "version": "3.9.7"
  }
 },
 "nbformat": 4,
 "nbformat_minor": 5
}
