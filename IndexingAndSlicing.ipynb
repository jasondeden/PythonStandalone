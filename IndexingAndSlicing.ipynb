{
 "cells": [
  {
   "cell_type": "markdown",
   "id": "b33cd43c-1239-4515-b142-61d9333d9a9d",
   "metadata": {},
   "source": [
    "# Fun with Indexing and Slicing"
   ]
  },
  {
   "cell_type": "code",
   "execution_count": 1,
   "id": "d532c769-1797-4886-996d-b28aaf683517",
   "metadata": {},
   "outputs": [],
   "source": [
    "import numpy as np"
   ]
  },
  {
   "cell_type": "markdown",
   "id": "7a20d547-a00c-4119-8649-bd8a83a500b3",
   "metadata": {
    "tags": []
   },
   "source": [
    "## Create a range of values from 0 to 9"
   ]
  },
  {
   "cell_type": "code",
   "execution_count": 4,
   "id": "6b4768c6-e15b-4f21-9ddf-e6252c04eb82",
   "metadata": {},
   "outputs": [
    {
     "name": "stdout",
     "output_type": "stream",
     "text": [
      "[0 1 2 3 4 5 6 7 8 9]\n"
     ]
    }
   ],
   "source": [
    "array1 = np.arange(10)\n",
    "print(array1)"
   ]
  },
  {
   "cell_type": "markdown",
   "id": "4c18c2d0-1954-48c5-a677-f234d8bb32f6",
   "metadata": {},
   "source": [
    "### Create another array of the same size, but this time starting at 10"
   ]
  },
  {
   "cell_type": "code",
   "execution_count": 8,
   "id": "ccb712f7-e692-4fb4-b536-34ead8ee51e6",
   "metadata": {},
   "outputs": [
    {
     "name": "stdout",
     "output_type": "stream",
     "text": [
      "[10 11 12 13 14 15 16 17 18 19]\n"
     ]
    }
   ],
   "source": [
    "array2 = np.arange(10,20)\n",
    "print(array2)"
   ]
  },
  {
   "cell_type": "markdown",
   "id": "ae3ab15f-dfd0-47a4-a106-17e8b311389b",
   "metadata": {},
   "source": [
    "### Note that the default arange function assumes you want to start at 0. However, if you supply two values separated by a comma, it starts at the first value and goes up to (but does not include the last value). Thus, we could have written array1 as:"
   ]
  },
  {
   "cell_type": "code",
   "execution_count": 9,
   "id": "ec8b692e-6707-4ff2-b18c-e7babbf7c76f",
   "metadata": {},
   "outputs": [
    {
     "data": {
      "text/plain": [
       "array([0, 1, 2, 3, 4, 5, 6, 7, 8, 9])"
      ]
     },
     "execution_count": 9,
     "metadata": {},
     "output_type": "execute_result"
    }
   ],
   "source": [
    "np.arange(0, 10)"
   ]
  },
  {
   "cell_type": "markdown",
   "id": "272e3713-6e3d-4505-bbc0-f523a3ebb813",
   "metadata": {},
   "source": [
    "### Ok, so for our third array, lets create one that starts at 1, stops before 30, and counts by 3's"
   ]
  },
  {
   "cell_type": "code",
   "execution_count": 12,
   "id": "84b67483-e82c-4c7d-9ccd-4976280f1f07",
   "metadata": {},
   "outputs": [
    {
     "name": "stdout",
     "output_type": "stream",
     "text": [
      "[ 1  4  7 10 13 16 19 22 25 28]\n"
     ]
    }
   ],
   "source": [
    "array3 = np.arange(1, 30, 3)\n",
    "print(array3)"
   ]
  },
  {
   "cell_type": "markdown",
   "id": "86f31ed1-3e62-44cc-9bab-a7219cac35e0",
   "metadata": {},
   "source": [
    "#### All three arrays have the same shape (10,)"
   ]
  },
  {
   "cell_type": "code",
   "execution_count": 15,
   "id": "9641672d-bc60-4c02-a315-a3cf6bc8914e",
   "metadata": {},
   "outputs": [
    {
     "data": {
      "text/plain": [
       "(10,)"
      ]
     },
     "execution_count": 15,
     "metadata": {},
     "output_type": "execute_result"
    }
   ],
   "source": [
    "array3.shape"
   ]
  },
  {
   "cell_type": "markdown",
   "id": "f6a9b28e-652c-4da3-88c6-a43f092bea05",
   "metadata": {},
   "source": [
    "## Indexing"
   ]
  },
  {
   "cell_type": "markdown",
   "id": "0cafa649-bfb9-4b65-ad87-ad7f210f5e78",
   "metadata": {},
   "source": [
    "## Let's grab values out of our arrays"
   ]
  },
  {
   "cell_type": "markdown",
   "id": "df6fa465-d980-4a7e-a71a-6849b148cc18",
   "metadata": {},
   "source": [
    "### To grab the fourth value out of an array, specify index 3 (because we start with 0...)"
   ]
  },
  {
   "cell_type": "code",
   "execution_count": 16,
   "id": "5e91da1b-006d-4e1e-9ec4-412c91556e58",
   "metadata": {},
   "outputs": [
    {
     "data": {
      "text/plain": [
       "3"
      ]
     },
     "execution_count": 16,
     "metadata": {},
     "output_type": "execute_result"
    }
   ],
   "source": [
    "array1[3]"
   ]
  },
  {
   "cell_type": "code",
   "execution_count": 17,
   "id": "94440f2c-1bad-4514-955b-22398110bd3f",
   "metadata": {},
   "outputs": [
    {
     "data": {
      "text/plain": [
       "13"
      ]
     },
     "execution_count": 17,
     "metadata": {},
     "output_type": "execute_result"
    }
   ],
   "source": [
    "array2[3]"
   ]
  },
  {
   "cell_type": "code",
   "execution_count": 18,
   "id": "7c289ab2-f1f0-43e2-ad4e-4241bd09bb1a",
   "metadata": {},
   "outputs": [
    {
     "data": {
      "text/plain": [
       "10"
      ]
     },
     "execution_count": 18,
     "metadata": {},
     "output_type": "execute_result"
    }
   ],
   "source": [
    "array3[3]"
   ]
  },
  {
   "cell_type": "markdown",
   "id": "52958f03-243d-4cb4-8d9a-4aee44320dcf",
   "metadata": {},
   "source": [
    "## Let's grab a range of values out of our arrays"
   ]
  },
  {
   "cell_type": "markdown",
   "id": "e3c0b9a8-e721-4ac6-a78d-8fadea3bfbee",
   "metadata": {},
   "source": [
    "### Grab the first 3 values"
   ]
  },
  {
   "cell_type": "code",
   "execution_count": 19,
   "id": "229cb7ef-1c24-4337-bb36-15a1b74a5ad8",
   "metadata": {},
   "outputs": [
    {
     "data": {
      "text/plain": [
       "array([0, 1, 2])"
      ]
     },
     "execution_count": 19,
     "metadata": {},
     "output_type": "execute_result"
    }
   ],
   "source": [
    "array1[:3]"
   ]
  },
  {
   "cell_type": "markdown",
   "id": "38a78d57-cd8e-4e55-a62e-bd1b8d5352b7",
   "metadata": {},
   "source": [
    "#### Note: similar to when we created a range using arange, the second number specifies the stop point but that point is not included in the resulting output. Thus, [:3] results in the values for index positions 0, 1, and 2, but not 3."
   ]
  },
  {
   "cell_type": "code",
   "execution_count": 21,
   "id": "f1d5e340-5cd8-48fa-89aa-40fcf9822248",
   "metadata": {},
   "outputs": [
    {
     "data": {
      "text/plain": [
       "array([0, 1, 2])"
      ]
     },
     "execution_count": 21,
     "metadata": {},
     "output_type": "execute_result"
    }
   ],
   "source": [
    "array1[0:3]"
   ]
  },
  {
   "cell_type": "markdown",
   "id": "cea00054-4f64-49e6-a971-700c72132a64",
   "metadata": {},
   "source": [
    "### Note that we could have specified the starting point as 0 instead of leaving it empty and gotten the same result. We can also specify a different starting point:"
   ]
  },
  {
   "cell_type": "code",
   "execution_count": 22,
   "id": "3d9ee520-3730-47cf-9158-9743d17a6d14",
   "metadata": {},
   "outputs": [
    {
     "data": {
      "text/plain": [
       "array([1, 2])"
      ]
     },
     "execution_count": 22,
     "metadata": {},
     "output_type": "execute_result"
    }
   ],
   "source": [
    "array1[1:3]"
   ]
  },
  {
   "cell_type": "code",
   "execution_count": 23,
   "id": "4a8d065c-5780-46d4-98bc-f7f51e550efe",
   "metadata": {},
   "outputs": [
    {
     "data": {
      "text/plain": [
       "array([2, 3, 4, 5, 6, 7, 8])"
      ]
     },
     "execution_count": 23,
     "metadata": {},
     "output_type": "execute_result"
    }
   ],
   "source": [
    "array1[2:9]"
   ]
  },
  {
   "cell_type": "markdown",
   "id": "83998631-95b9-48e7-8708-0bd21088634d",
   "metadata": {},
   "source": [
    "### We can specify a third value to grab every nth value, instead of all values between the first and second numbers given."
   ]
  },
  {
   "cell_type": "code",
   "execution_count": 24,
   "id": "ca8b78b3-3347-479c-8541-ccaa2b030590",
   "metadata": {},
   "outputs": [
    {
     "data": {
      "text/plain": [
       "array([2, 4, 6, 8])"
      ]
     },
     "execution_count": 24,
     "metadata": {},
     "output_type": "execute_result"
    }
   ],
   "source": [
    "array1[2:9:2]"
   ]
  },
  {
   "cell_type": "code",
   "execution_count": 25,
   "id": "ce425a36-2a33-4436-ae96-56ccd21a7245",
   "metadata": {},
   "outputs": [
    {
     "data": {
      "text/plain": [
       "array([2, 5, 8])"
      ]
     },
     "execution_count": 25,
     "metadata": {},
     "output_type": "execute_result"
    }
   ],
   "source": [
    "array1[2:9:3]"
   ]
  },
  {
   "cell_type": "markdown",
   "id": "179187b9-0f04-42a0-8fd1-dfd90c311a35",
   "metadata": {},
   "source": [
    "## Note that the logic for arange and for indexing and slicing is the same - first number provides the starting point, second number provides the end (but do not include) point, and the third number provides the interval."
   ]
  },
  {
   "cell_type": "markdown",
   "id": "0401f046-7f8e-4835-bc1d-90da19646e8e",
   "metadata": {},
   "source": [
    "### In indexing and slicing, if no numbers are provided between the colons, the first number is assumed to be 0, the last number is assumed to be the final available value, and the interval is assumed to be 1."
   ]
  },
  {
   "cell_type": "code",
   "execution_count": 26,
   "id": "038e6062-6174-4034-8ea9-3068c018a8da",
   "metadata": {},
   "outputs": [
    {
     "data": {
      "text/plain": [
       "array([0, 1, 2, 3, 4, 5, 6, 7, 8, 9])"
      ]
     },
     "execution_count": 26,
     "metadata": {},
     "output_type": "execute_result"
    }
   ],
   "source": [
    "array1"
   ]
  },
  {
   "cell_type": "code",
   "execution_count": 27,
   "id": "a6c65d4f-5af0-4325-a8c5-397980d2c1b1",
   "metadata": {},
   "outputs": [
    {
     "data": {
      "text/plain": [
       "array([0, 1, 2, 3, 4, 5, 6, 7, 8, 9])"
      ]
     },
     "execution_count": 27,
     "metadata": {},
     "output_type": "execute_result"
    }
   ],
   "source": [
    "array1[:]"
   ]
  },
  {
   "cell_type": "code",
   "execution_count": 28,
   "id": "ba7eec31-dbf2-4447-8c1f-e4a2967068be",
   "metadata": {},
   "outputs": [
    {
     "data": {
      "text/plain": [
       "array([0, 1, 2, 3, 4, 5, 6, 7, 8, 9])"
      ]
     },
     "execution_count": 28,
     "metadata": {},
     "output_type": "execute_result"
    }
   ],
   "source": [
    "array1[::]"
   ]
  },
  {
   "cell_type": "code",
   "execution_count": 29,
   "id": "d91d638f-9975-41ba-b962-1df4a4c81edf",
   "metadata": {},
   "outputs": [
    {
     "data": {
      "text/plain": [
       "array([0, 1, 2, 3, 4, 5, 6, 7, 8, 9])"
      ]
     },
     "execution_count": 29,
     "metadata": {},
     "output_type": "execute_result"
    }
   ],
   "source": [
    "array1[0:10:1]"
   ]
  },
  {
   "cell_type": "markdown",
   "id": "95bca726-e9ce-4f47-9355-bc85fa4cc07b",
   "metadata": {
    "tags": []
   },
   "source": [
    "## Reversing order and negative numbers"
   ]
  },
  {
   "cell_type": "markdown",
   "id": "c7355467-ba91-47d0-894e-a1871407d4e3",
   "metadata": {
    "tags": []
   },
   "source": [
    "### You can specify start and stop points in reverse order if you specify a negative interval"
   ]
  },
  {
   "cell_type": "code",
   "execution_count": 33,
   "id": "7a5931c7-a2cf-4094-a55a-92589f75ec4e",
   "metadata": {},
   "outputs": [
    {
     "data": {
      "text/plain": [
       "array([9, 8, 7, 6, 5, 4, 3, 2, 1, 0])"
      ]
     },
     "execution_count": 33,
     "metadata": {},
     "output_type": "execute_result"
    }
   ],
   "source": [
    "#Return all values in reverse order\n",
    "array1[::-1]"
   ]
  },
  {
   "cell_type": "code",
   "execution_count": 34,
   "id": "d6abda06-54d3-4c66-ad61-7adddd7ea5e8",
   "metadata": {},
   "outputs": [
    {
     "data": {
      "text/plain": [
       "array([8, 7, 6, 5, 4, 3])"
      ]
     },
     "execution_count": 34,
     "metadata": {},
     "output_type": "execute_result"
    }
   ],
   "source": [
    "#Start at index position 8 and stop (but do not include) 2\n",
    "array1[8:2:-1]"
   ]
  },
  {
   "cell_type": "code",
   "execution_count": 35,
   "id": "e576b3b6-ecac-48ff-af83-8198eb250303",
   "metadata": {},
   "outputs": [
    {
     "data": {
      "text/plain": [
       "array([8, 6, 4])"
      ]
     },
     "execution_count": 35,
     "metadata": {},
     "output_type": "execute_result"
    }
   ],
   "source": [
    "#Start at index position 8 and stop (but do not include) 2, count by 2's\n",
    "array1[8:2:-2]"
   ]
  },
  {
   "cell_type": "markdown",
   "id": "29c75439-b15c-4aa7-86b8-99217bcfe2f9",
   "metadata": {},
   "source": [
    "### You can specify index position based on reverse order by using negative numbers as well"
   ]
  },
  {
   "cell_type": "code",
   "execution_count": 36,
   "id": "e2b457f1-d5ce-410a-911f-1dbbfcd696f9",
   "metadata": {},
   "outputs": [
    {
     "data": {
      "text/plain": [
       "9"
      ]
     },
     "execution_count": 36,
     "metadata": {},
     "output_type": "execute_result"
    }
   ],
   "source": [
    "array1[-1]"
   ]
  },
  {
   "cell_type": "code",
   "execution_count": 37,
   "id": "f8020f83-fc95-4c7f-ab73-baed8ebdd1bd",
   "metadata": {},
   "outputs": [
    {
     "data": {
      "text/plain": [
       "6"
      ]
     },
     "execution_count": 37,
     "metadata": {},
     "output_type": "execute_result"
    }
   ],
   "source": [
    "array1[-4]"
   ]
  },
  {
   "cell_type": "markdown",
   "id": "cbcd8978-5bb0-4718-a15e-21be2b3ea531",
   "metadata": {},
   "source": [
    "## Matrix Indexing and Slicing"
   ]
  },
  {
   "cell_type": "markdown",
   "id": "7d07f3bc-93f9-4c8c-908b-0a625044f6c0",
   "metadata": {},
   "source": [
    "### Let's turn our three arrays into a 3x10 matrix"
   ]
  },
  {
   "cell_type": "code",
   "execution_count": 55,
   "id": "1c2c975c-8280-4ec9-9d6e-06a1b4146eee",
   "metadata": {},
   "outputs": [
    {
     "name": "stdout",
     "output_type": "stream",
     "text": [
      "[[ 0  1  2  3  4  5  6  7  8  9]\n",
      " [10 11 12 13 14 15 16 17 18 19]\n",
      " [ 1  4  7 10 13 16 19 22 25 28]]\n"
     ]
    }
   ],
   "source": [
    "matrix = np.stack((array1, array2, array3))\n",
    "print(matrix)"
   ]
  },
  {
   "cell_type": "code",
   "execution_count": 56,
   "id": "8d1a7d0e-e834-42e7-9ca9-abe033b02964",
   "metadata": {},
   "outputs": [
    {
     "data": {
      "text/plain": [
       "(3, 10)"
      ]
     },
     "execution_count": 56,
     "metadata": {},
     "output_type": "execute_result"
    }
   ],
   "source": [
    "matrix.shape"
   ]
  },
  {
   "cell_type": "markdown",
   "id": "0bbc04c0-8a58-4394-b9a6-51f0e72979fe",
   "metadata": {},
   "source": [
    "### Now that we have two axes that we can navigate, let's see what happens when we try a simple index - say, index position 1"
   ]
  },
  {
   "cell_type": "code",
   "execution_count": 57,
   "id": "ccb11fd0-2c74-401f-a02c-616a2ce965aa",
   "metadata": {},
   "outputs": [
    {
     "data": {
      "text/plain": [
       "array([10, 11, 12, 13, 14, 15, 16, 17, 18, 19])"
      ]
     },
     "execution_count": 57,
     "metadata": {},
     "output_type": "execute_result"
    }
   ],
   "source": [
    "matrix[1]"
   ]
  },
  {
   "cell_type": "markdown",
   "id": "799e9567-b2f8-426c-840c-78edc8261ffa",
   "metadata": {},
   "source": [
    "### Note that a single index position now returns and entire row instead of a single value. If we want to just get a single value - say the first one - out of this row, we can subset the subset we created."
   ]
  },
  {
   "cell_type": "code",
   "execution_count": 58,
   "id": "9c519f66-42c2-42e1-a569-89e59a1b8a58",
   "metadata": {},
   "outputs": [
    {
     "data": {
      "text/plain": [
       "10"
      ]
     },
     "execution_count": 58,
     "metadata": {},
     "output_type": "execute_result"
    }
   ],
   "source": [
    "matrix[1][0]"
   ]
  },
  {
   "cell_type": "markdown",
   "id": "8cde0330-f7ea-4649-8c59-2ad1ce9e12b3",
   "metadata": {},
   "source": [
    "### Alternatively, we could have specified both values in the original subset, separated by a comma"
   ]
  },
  {
   "cell_type": "code",
   "execution_count": 59,
   "id": "89b92637-a98b-4866-a960-6e84fac46b10",
   "metadata": {},
   "outputs": [
    {
     "data": {
      "text/plain": [
       "10"
      ]
     },
     "execution_count": 59,
     "metadata": {},
     "output_type": "execute_result"
    }
   ],
   "source": [
    "matrix[1,0]"
   ]
  },
  {
   "cell_type": "markdown",
   "id": "3b900ad2-97d8-4782-99d1-a1bf1e49d4b0",
   "metadata": {},
   "source": [
    "## More examples"
   ]
  },
  {
   "cell_type": "code",
   "execution_count": 66,
   "id": "391553aa-cc40-409a-9b69-cef01303517c",
   "metadata": {},
   "outputs": [
    {
     "data": {
      "text/plain": [
       "array([[ 0,  1,  2,  3,  4,  5,  6,  7,  8,  9],\n",
       "       [10, 11, 12, 13, 14, 15, 16, 17, 18, 19],\n",
       "       [ 1,  4,  7, 10, 13, 16, 19, 22, 25, 28]])"
      ]
     },
     "execution_count": 66,
     "metadata": {},
     "output_type": "execute_result"
    }
   ],
   "source": [
    "matrix #Keeping the visual in mind"
   ]
  },
  {
   "cell_type": "code",
   "execution_count": 63,
   "id": "aabd7b10-7ab9-48f9-839e-82c2e95443c5",
   "metadata": {},
   "outputs": [
    {
     "data": {
      "text/plain": [
       "array([[10, 11, 12, 13, 14, 15, 16, 17, 18, 19],\n",
       "       [ 1,  4,  7, 10, 13, 16, 19, 22, 25, 28]])"
      ]
     },
     "execution_count": 63,
     "metadata": {},
     "output_type": "execute_result"
    }
   ],
   "source": [
    "matrix[1:] #Returns rows starting with 1 to the end of the matrix"
   ]
  },
  {
   "cell_type": "code",
   "execution_count": 62,
   "id": "ae3dd298-35ca-4ba2-b306-06acc695a855",
   "metadata": {},
   "outputs": [
    {
     "data": {
      "text/plain": [
       "array([10,  1])"
      ]
     },
     "execution_count": 62,
     "metadata": {},
     "output_type": "execute_result"
    }
   ],
   "source": [
    "matrix[1:,0] #Returns the 0th index position of the rows returned prior to the comma"
   ]
  },
  {
   "cell_type": "code",
   "execution_count": 67,
   "id": "467cb5cb-7fff-45a6-a4d8-5843900768e4",
   "metadata": {},
   "outputs": [
    {
     "data": {
      "text/plain": [
       "array([ 2, 12])"
      ]
     },
     "execution_count": 67,
     "metadata": {},
     "output_type": "execute_result"
    }
   ],
   "source": [
    "matrix[:2,2] #Returns rows from 0 to 1, and index position 2 in those rows"
   ]
  },
  {
   "cell_type": "code",
   "execution_count": 69,
   "id": "df0f8e87-9057-4e36-9995-6e97db8c9507",
   "metadata": {},
   "outputs": [
    {
     "data": {
      "text/plain": [
       "array([[ 2,  3,  4],\n",
       "       [12, 13, 14],\n",
       "       [ 7, 10, 13]])"
      ]
     },
     "execution_count": 69,
     "metadata": {},
     "output_type": "execute_result"
    }
   ],
   "source": [
    "matrix[:,2:5] #Returns all rows, then index positions 2 through 4 in those rows"
   ]
  },
  {
   "cell_type": "code",
   "execution_count": 71,
   "id": "a53e2678-474d-4150-bedb-e39802dca6b6",
   "metadata": {},
   "outputs": [
    {
     "data": {
      "text/plain": [
       "array([[ 0,  1,  2,  3,  4,  5,  6,  7,  8,  9],\n",
       "       [ 1,  4,  7, 10, 13, 16, 19, 22, 25, 28]])"
      ]
     },
     "execution_count": 71,
     "metadata": {},
     "output_type": "execute_result"
    }
   ],
   "source": [
    "matrix[::2] #Returns all rows at every 2nd interval"
   ]
  },
  {
   "cell_type": "code",
   "execution_count": 72,
   "id": "21f78af8-cbba-498d-9837-4528907998a3",
   "metadata": {},
   "outputs": [
    {
     "data": {
      "text/plain": [
       "array([[ 1,  4,  7, 10, 13, 16, 19, 22, 25, 28],\n",
       "       [ 0,  1,  2,  3,  4,  5,  6,  7,  8,  9]])"
      ]
     },
     "execution_count": 72,
     "metadata": {},
     "output_type": "execute_result"
    }
   ],
   "source": [
    "matrix[::-2] #Same but in reverse"
   ]
  },
  {
   "cell_type": "code",
   "execution_count": 74,
   "id": "c79bbe51-fcc2-4b0f-8dca-db76e08335ec",
   "metadata": {},
   "outputs": [
    {
     "data": {
      "text/plain": [
       "array([[ 9,  6,  3],\n",
       "       [28, 19, 10]])"
      ]
     },
     "execution_count": 74,
     "metadata": {},
     "output_type": "execute_result"
    }
   ],
   "source": [
    "matrix[::2, 9:1:-3] #Returns all rows at every 2nd interval, the positions 9 through 2 at every third interval"
   ]
  },
  {
   "cell_type": "code",
   "execution_count": 76,
   "id": "160d7f32-a56b-4a55-816b-3ae42d28ed03",
   "metadata": {},
   "outputs": [
    {
     "data": {
      "text/plain": [
       "15"
      ]
     },
     "execution_count": 76,
     "metadata": {},
     "output_type": "execute_result"
    }
   ],
   "source": [
    "matrix[1,5]"
   ]
  },
  {
   "cell_type": "code",
   "execution_count": null,
   "id": "58cb7ae8-39f4-4b9d-a3ee-e718b17b7a5d",
   "metadata": {},
   "outputs": [],
   "source": []
  }
 ],
 "metadata": {
  "kernelspec": {
   "display_name": "Python 3 (ipykernel)",
   "language": "python",
   "name": "python3"
  },
  "language_info": {
   "codemirror_mode": {
    "name": "ipython",
    "version": 3
   },
   "file_extension": ".py",
   "mimetype": "text/x-python",
   "name": "python",
   "nbconvert_exporter": "python",
   "pygments_lexer": "ipython3",
   "version": "3.9.7"
  }
 },
 "nbformat": 4,
 "nbformat_minor": 5
}
