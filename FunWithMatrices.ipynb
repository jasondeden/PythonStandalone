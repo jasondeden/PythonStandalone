{
 "cells": [
  {
   "cell_type": "markdown",
   "id": "9994de87-f9d7-47b8-b309-69749b3beae5",
   "metadata": {},
   "source": [
    "# Fun with Matrices"
   ]
  },
  {
   "cell_type": "code",
   "execution_count": 1,
   "id": "65b12bf3-6b70-4805-8af3-b27c98eaa25b",
   "metadata": {},
   "outputs": [],
   "source": [
    "import numpy as np"
   ]
  },
  {
   "cell_type": "markdown",
   "id": "f08a7e6d-5c1e-4a4c-abdc-eff70912b4cb",
   "metadata": {},
   "source": [
    "## Element-wise multiplication"
   ]
  },
  {
   "cell_type": "markdown",
   "id": "39aa3210-0b5a-4e4c-b32a-312a4478dcb8",
   "metadata": {
    "tags": []
   },
   "source": [
    "### Let's create a couple of matrices with the same shape"
   ]
  },
  {
   "cell_type": "code",
   "execution_count": 5,
   "id": "825bdc5e-a583-483b-8b7f-79b2f8005f1f",
   "metadata": {},
   "outputs": [
    {
     "name": "stdout",
     "output_type": "stream",
     "text": [
      "[[0.48648143 0.31265133 0.54197392 0.313235   0.21338059]\n",
      " [0.69665406 0.0722885  0.301989   0.46795963 0.89079005]\n",
      " [0.99599151 0.50817115 0.56234987 0.41278708 0.42643855]]\n"
     ]
    }
   ],
   "source": [
    "matrix1 = np.random.rand(3, 5)\n",
    "print(matrix1)"
   ]
  },
  {
   "cell_type": "code",
   "execution_count": 6,
   "id": "fc24187c-1d82-4f5e-84dc-189efa0f4485",
   "metadata": {},
   "outputs": [
    {
     "name": "stdout",
     "output_type": "stream",
     "text": [
      "[[0.86192738 0.24819291 0.88426159 0.82033332 0.90285396]\n",
      " [0.41193118 0.75909385 0.47265607 0.5540956  0.90340876]\n",
      " [0.99451903 0.67467346 0.64576588 0.71761088 0.17557481]]\n"
     ]
    }
   ],
   "source": [
    "matrix2 = np.random.rand(3, 5)\n",
    "print(matrix2)"
   ]
  },
  {
   "cell_type": "code",
   "execution_count": 15,
   "id": "6b768c66-6277-491f-801e-fe6d685dbad3",
   "metadata": {},
   "outputs": [
    {
     "name": "stdout",
     "output_type": "stream",
     "text": [
      "[[0.41931167 0.07759784 0.47924672 0.25695711 0.19265151]\n",
      " [0.28697352 0.05487375 0.14273693 0.25929437 0.80474754]\n",
      " [0.99053251 0.34284959 0.36314636 0.2962205  0.07487187]]\n"
     ]
    }
   ],
   "source": [
    "FirstProduct = np.multiply(matrix1, matrix2)\n",
    "print(FirstProduct)"
   ]
  },
  {
   "cell_type": "markdown",
   "id": "58b07e5b-44d1-441d-83ae-adfdbd39fef1",
   "metadata": {},
   "source": [
    "#### Note - you can use \"*\" instead of np.multiply - identical results"
   ]
  },
  {
   "cell_type": "code",
   "execution_count": 23,
   "id": "713ecb71-f719-4a4e-af84-0ebea452d5e0",
   "metadata": {},
   "outputs": [
    {
     "name": "stdout",
     "output_type": "stream",
     "text": [
      "[[0.41931167 0.07759784 0.47924672 0.25695711 0.19265151]\n",
      " [0.28697352 0.05487375 0.14273693 0.25929437 0.80474754]\n",
      " [0.99053251 0.34284959 0.36314636 0.2962205  0.07487187]]\n"
     ]
    }
   ],
   "source": [
    "FirstProductAlt = matrix1 * matrix2\n",
    "print(FirstProductAlt)"
   ]
  },
  {
   "cell_type": "markdown",
   "id": "42346ed5-bf9f-4867-ab18-4fff72a1ec48",
   "metadata": {
    "tags": []
   },
   "source": [
    "### What's happened? Every element in the first matrix has been multiplied with the corresponding element in the second matrix.\n",
    "\n",
    "### Look at the first value in the first matrix and separate matrix (and practice our subsetting at the same time):"
   ]
  },
  {
   "cell_type": "markdown",
   "id": "cc345a67-3584-452d-b5e0-5d6e3cf45703",
   "metadata": {},
   "source": [
    "#### We want the first value in the first row, so we can start by simply subsetting the first row of data from matrix1."
   ]
  },
  {
   "cell_type": "code",
   "execution_count": 10,
   "id": "67c4e1ca-d994-4623-9d31-728c4cd8fe86",
   "metadata": {},
   "outputs": [
    {
     "name": "stdout",
     "output_type": "stream",
     "text": [
      "[0.48648143 0.31265133 0.54197392 0.313235   0.21338059]\n"
     ]
    }
   ],
   "source": [
    "m1FirstRow = matrix1[0]\n",
    "print(m1FirstRow)"
   ]
  },
  {
   "cell_type": "markdown",
   "id": "f1038375-d18c-45bf-8d49-11a4eeb8e090",
   "metadata": {},
   "source": [
    "#### Next, we can subset this row of data and just grab the first value / column:"
   ]
  },
  {
   "cell_type": "code",
   "execution_count": 12,
   "id": "23ceebf5-f75a-44a2-b728-d832aa28a9df",
   "metadata": {},
   "outputs": [
    {
     "name": "stdout",
     "output_type": "stream",
     "text": [
      "0.4864814346549454\n"
     ]
    }
   ],
   "source": [
    "m1FirstRowFirstColumn = m1FirstRow[0]\n",
    "print(m1FirstRowFirstColumn)"
   ]
  },
  {
   "cell_type": "markdown",
   "id": "7869a147-a99d-4154-9c3c-1302068922aa",
   "metadata": {},
   "source": [
    "#### Note: We did not have to do this in two steps, as you can subset a subset like so:"
   ]
  },
  {
   "cell_type": "code",
   "execution_count": 13,
   "id": "0f48e1ce-aaeb-4e5a-822f-e874db0b8dc3",
   "metadata": {},
   "outputs": [
    {
     "name": "stdout",
     "output_type": "stream",
     "text": [
      "0.4864814346549454\n"
     ]
    }
   ],
   "source": [
    "m1FirstValue = matrix1[0][0]\n",
    "print(m1FirstValue)"
   ]
  },
  {
   "cell_type": "markdown",
   "id": "c1c9ad04-9882-47b6-af93-5efbb557ee0a",
   "metadata": {},
   "source": [
    "#### So now we know the easy way to grab the value we want, repeat the operation for the second matrix:"
   ]
  },
  {
   "cell_type": "code",
   "execution_count": 17,
   "id": "2d1c494a-38e6-48b4-8d40-3db0e44f9e32",
   "metadata": {},
   "outputs": [
    {
     "name": "stdout",
     "output_type": "stream",
     "text": [
      "0.8619273795284207\n"
     ]
    }
   ],
   "source": [
    "m2FirstValue = matrix2[0][0]\n",
    "print(m2FirstValue)"
   ]
  },
  {
   "cell_type": "markdown",
   "id": "0ace7b79-14d8-4e57-b626-8835f42e5e2e",
   "metadata": {},
   "source": [
    "#### Now, to confirm that we have indeed performed an element-wise multiplication, check the product of the first value in each matrix vs. the first value of the resulting matrix when we used np.multiply:"
   ]
  },
  {
   "cell_type": "code",
   "execution_count": 18,
   "id": "94aaa4c5-bf65-4224-8d15-624466504956",
   "metadata": {},
   "outputs": [
    {
     "data": {
      "text/plain": [
       "0.4193116681613637"
      ]
     },
     "execution_count": 18,
     "metadata": {},
     "output_type": "execute_result"
    }
   ],
   "source": [
    "m1FirstValue * m2FirstValue"
   ]
  },
  {
   "cell_type": "code",
   "execution_count": 19,
   "id": "b6840768-aa7e-44af-8d56-b1415e5e6edc",
   "metadata": {},
   "outputs": [
    {
     "data": {
      "text/plain": [
       "0.4193116681613637"
      ]
     },
     "execution_count": 19,
     "metadata": {},
     "output_type": "execute_result"
    }
   ],
   "source": [
    "FirstProduct[0][0]"
   ]
  },
  {
   "cell_type": "markdown",
   "id": "ead377e4-e9b3-479d-bff4-ffdfef1067af",
   "metadata": {},
   "source": [
    "#### We have a match!"
   ]
  },
  {
   "cell_type": "markdown",
   "id": "57fb32cb-bf2c-4ae3-a87f-62dbf7c4a954",
   "metadata": {},
   "source": [
    "## What happens if we try to multiply matrices that do not have the same shape?"
   ]
  },
  {
   "cell_type": "code",
   "execution_count": 21,
   "id": "c41080f9-daa8-449e-8ce8-a745de26ba4b",
   "metadata": {},
   "outputs": [
    {
     "name": "stdout",
     "output_type": "stream",
     "text": [
      "[[0.30336823 0.98736003 0.28804117]\n",
      " [0.83649174 0.76903331 0.66633132]\n",
      " [0.17058183 0.23673478 0.3554308 ]\n",
      " [0.28499783 0.59626952 0.09996508]\n",
      " [0.10223562 0.06169455 0.67273933]\n",
      " [0.3024988  0.43814816 0.52886833]]\n"
     ]
    }
   ],
   "source": [
    "matrix3 = np.random.rand(6, 3)\n",
    "print(matrix3)"
   ]
  },
  {
   "cell_type": "code",
   "execution_count": 22,
   "id": "4e8db423-7646-49e4-873e-d922737b0739",
   "metadata": {},
   "outputs": [
    {
     "ename": "ValueError",
     "evalue": "operands could not be broadcast together with shapes (3,5) (6,3) ",
     "output_type": "error",
     "traceback": [
      "\u001b[0;31m---------------------------------------------------------------------------\u001b[0m",
      "\u001b[0;31mValueError\u001b[0m                                Traceback (most recent call last)",
      "\u001b[0;32m/var/folders/w1/v8x3p_k90rv3gff4rph9wkpc0000gn/T/ipykernel_49060/880636803.py\u001b[0m in \u001b[0;36m<module>\u001b[0;34m\u001b[0m\n\u001b[0;32m----> 1\u001b[0;31m \u001b[0mnp\u001b[0m\u001b[0;34m.\u001b[0m\u001b[0mmultiply\u001b[0m\u001b[0;34m(\u001b[0m\u001b[0mmatrix1\u001b[0m\u001b[0;34m,\u001b[0m \u001b[0mmatrix3\u001b[0m\u001b[0;34m)\u001b[0m\u001b[0;34m\u001b[0m\u001b[0;34m\u001b[0m\u001b[0m\n\u001b[0m",
      "\u001b[0;31mValueError\u001b[0m: operands could not be broadcast together with shapes (3,5) (6,3) "
     ]
    }
   ],
   "source": [
    "np.multiply(matrix1, matrix3)"
   ]
  },
  {
   "cell_type": "code",
   "execution_count": 24,
   "id": "1d7f2c12-673e-4c9f-b114-1851d1dbcf0b",
   "metadata": {},
   "outputs": [
    {
     "ename": "SyntaxError",
     "evalue": "invalid syntax (580078671.py, line 1)",
     "output_type": "error",
     "traceback": [
      "\u001b[0;36m  File \u001b[0;32m\"/var/folders/w1/v8x3p_k90rv3gff4rph9wkpc0000gn/T/ipykernel_49060/580078671.py\"\u001b[0;36m, line \u001b[0;32m1\u001b[0m\n\u001b[0;31m    matrix1 * matrix 3\u001b[0m\n\u001b[0m                     ^\u001b[0m\n\u001b[0;31mSyntaxError\u001b[0m\u001b[0;31m:\u001b[0m invalid syntax\n"
     ]
    }
   ],
   "source": [
    "matrix1 * matrix 3"
   ]
  },
  {
   "cell_type": "markdown",
   "id": "30769c9e-b230-4b3f-b561-6d22e88d0e65",
   "metadata": {},
   "source": [
    "#### You cannot perform this operation because there is not a corresponding value in matrix1 for every value in matrix3."
   ]
  },
  {
   "cell_type": "markdown",
   "id": "dda7d798-9c2c-4212-978d-043bf922ad5d",
   "metadata": {},
   "source": [
    "## Inner / Dot Product"
   ]
  },
  {
   "cell_type": "markdown",
   "id": "efd93059-d7d7-4435-9db0-3ad961515a9b",
   "metadata": {},
   "source": [
    "### Dot products can be calculated as long as their \"inner\" values match. For example, matrix1 and matrix2 both have shapes of 3, 5"
   ]
  },
  {
   "cell_type": "code",
   "execution_count": 25,
   "id": "2fc90d4d-8636-4f1e-88e4-46f0923cdc23",
   "metadata": {},
   "outputs": [
    {
     "data": {
      "text/plain": [
       "(3, 5)"
      ]
     },
     "execution_count": 25,
     "metadata": {},
     "output_type": "execute_result"
    }
   ],
   "source": [
    "np.shape(matrix1)"
   ]
  },
  {
   "cell_type": "code",
   "execution_count": 26,
   "id": "11cde798-fc94-4e58-bd0f-4704f0edd600",
   "metadata": {},
   "outputs": [
    {
     "data": {
      "text/plain": [
       "(3, 5)"
      ]
     },
     "execution_count": 26,
     "metadata": {},
     "output_type": "execute_result"
    }
   ],
   "source": [
    "np.shape(matrix2)"
   ]
  },
  {
   "cell_type": "markdown",
   "id": "278f2c90-485b-4eb5-b9de-f0a8e5bb2329",
   "metadata": {},
   "source": [
    "## Can we calculate a dot product of these two matrices as-is?"
   ]
  },
  {
   "cell_type": "code",
   "execution_count": 27,
   "id": "ab11914a-bd98-4300-9a4a-2c8fdfc5f9dc",
   "metadata": {},
   "outputs": [
    {
     "ename": "ValueError",
     "evalue": "shapes (3,5) and (3,5) not aligned: 5 (dim 1) != 3 (dim 0)",
     "output_type": "error",
     "traceback": [
      "\u001b[0;31m---------------------------------------------------------------------------\u001b[0m",
      "\u001b[0;31mValueError\u001b[0m                                Traceback (most recent call last)",
      "\u001b[0;32m/var/folders/w1/v8x3p_k90rv3gff4rph9wkpc0000gn/T/ipykernel_49060/2088078420.py\u001b[0m in \u001b[0;36m<module>\u001b[0;34m\u001b[0m\n\u001b[0;32m----> 1\u001b[0;31m \u001b[0mnp\u001b[0m\u001b[0;34m.\u001b[0m\u001b[0mdot\u001b[0m\u001b[0;34m(\u001b[0m\u001b[0mmatrix1\u001b[0m\u001b[0;34m,\u001b[0m \u001b[0mmatrix2\u001b[0m\u001b[0;34m)\u001b[0m\u001b[0;34m\u001b[0m\u001b[0;34m\u001b[0m\u001b[0m\n\u001b[0m",
      "\u001b[0;32m<__array_function__ internals>\u001b[0m in \u001b[0;36mdot\u001b[0;34m(*args, **kwargs)\u001b[0m\n",
      "\u001b[0;31mValueError\u001b[0m: shapes (3,5) and (3,5) not aligned: 5 (dim 1) != 3 (dim 0)"
     ]
    }
   ],
   "source": [
    "np.dot(matrix1, matrix2)"
   ]
  },
  {
   "cell_type": "markdown",
   "id": "346ce214-3ad3-4455-ac5e-327f6664a599",
   "metadata": {},
   "source": [
    "## Nope! The inner values for the matrices are the second shape value of the first matrix and the first shape value of the second matrix. Those values are 5 and 3, respectively, and thus we cannot perform an inner product calculation."
   ]
  },
  {
   "cell_type": "markdown",
   "id": "bd9d7329-8fdc-4de2-9a93-0cf90d9c30c9",
   "metadata": {},
   "source": [
    "### In order to get this to work, we need to change the shape of one of the matrices. One way to do this is to transpose:"
   ]
  },
  {
   "cell_type": "code",
   "execution_count": 28,
   "id": "91774b07-e54f-4055-88be-411ad5a28427",
   "metadata": {},
   "outputs": [
    {
     "name": "stdout",
     "output_type": "stream",
     "text": [
      "[[0.86192738 0.24819291 0.88426159 0.82033332 0.90285396]\n",
      " [0.41193118 0.75909385 0.47265607 0.5540956  0.90340876]\n",
      " [0.99451903 0.67467346 0.64576588 0.71761088 0.17557481]]\n"
     ]
    }
   ],
   "source": [
    "print(matrix2)"
   ]
  },
  {
   "cell_type": "code",
   "execution_count": 29,
   "id": "f7e29acc-6f19-4e91-91af-989758d32e28",
   "metadata": {},
   "outputs": [
    {
     "name": "stdout",
     "output_type": "stream",
     "text": [
      "[[0.86192738 0.41193118 0.99451903]\n",
      " [0.24819291 0.75909385 0.67467346]\n",
      " [0.88426159 0.47265607 0.64576588]\n",
      " [0.82033332 0.5540956  0.71761088]\n",
      " [0.90285396 0.90340876 0.17557481]]\n"
     ]
    }
   ],
   "source": [
    "print(np.transpose(matrix2))"
   ]
  },
  {
   "cell_type": "markdown",
   "id": "4ba53013-f7ee-4c75-9f5c-ead21cef7fec",
   "metadata": {},
   "source": [
    "### Transposing a matrix makes its rows into columns and columns into rows. Can be done with np.transpose (as shown above) or by using \".T\" at the end of the matrix (as shown below)."
   ]
  },
  {
   "cell_type": "code",
   "execution_count": 30,
   "id": "51535b5f-f1d3-40d4-bc2f-26a9a4bf9fcf",
   "metadata": {},
   "outputs": [
    {
     "name": "stdout",
     "output_type": "stream",
     "text": [
      "[[0.86192738 0.41193118 0.99451903]\n",
      " [0.24819291 0.75909385 0.67467346]\n",
      " [0.88426159 0.47265607 0.64576588]\n",
      " [0.82033332 0.5540956  0.71761088]\n",
      " [0.90285396 0.90340876 0.17557481]]\n"
     ]
    }
   ],
   "source": [
    "print(matrix2.T)"
   ]
  },
  {
   "cell_type": "markdown",
   "id": "75023d39-aa79-4f3f-af10-f6bf1ba4560f",
   "metadata": {},
   "source": [
    "### Thus, to be able to do an inner product with our two matrices, we need to transpose one of them:"
   ]
  },
  {
   "cell_type": "code",
   "execution_count": 32,
   "id": "62f17bf8-5a21-4275-a139-022093f5e880",
   "metadata": {},
   "outputs": [
    {
     "data": {
      "text/plain": [
       "array([[1.42576485, 1.06022786, 1.30698596],\n",
       "       [2.07358018, 1.54862612, 1.42883425],\n",
       "       [2.20549595, 1.67579945, 2.06762082]])"
      ]
     },
     "execution_count": 32,
     "metadata": {},
     "output_type": "execute_result"
    }
   ],
   "source": [
    "np.dot(matrix1, matrix2.T)"
   ]
  },
  {
   "cell_type": "markdown",
   "id": "7b4024a7-0fd6-4420-8af7-2b86f818b5f3",
   "metadata": {},
   "source": [
    "#### You can also use \"@\" instead of np.dot"
   ]
  },
  {
   "cell_type": "code",
   "execution_count": 33,
   "id": "5627ab6d-e6b1-4765-803c-fb2a58d197d1",
   "metadata": {},
   "outputs": [
    {
     "data": {
      "text/plain": [
       "array([[1.42576485, 1.06022786, 1.30698596],\n",
       "       [2.07358018, 1.54862612, 1.42883425],\n",
       "       [2.20549595, 1.67579945, 2.06762082]])"
      ]
     },
     "execution_count": 33,
     "metadata": {},
     "output_type": "execute_result"
    }
   ],
   "source": [
    "matrix1 @ matrix2.T"
   ]
  },
  {
   "cell_type": "markdown",
   "id": "6233e3a1-7121-410c-9125-37c7eca42175",
   "metadata": {},
   "source": [
    "### Another option is to use np.inner, which automatically transposes the second matrix for you."
   ]
  },
  {
   "cell_type": "code",
   "execution_count": 36,
   "id": "01eb4ea8-8358-4d71-83e2-1d003bfaeae5",
   "metadata": {},
   "outputs": [
    {
     "data": {
      "text/plain": [
       "array([[1.42576485, 1.06022786, 1.30698596],\n",
       "       [2.07358018, 1.54862612, 1.42883425],\n",
       "       [2.20549595, 1.67579945, 2.06762082]])"
      ]
     },
     "execution_count": 36,
     "metadata": {},
     "output_type": "execute_result"
    }
   ],
   "source": [
    "np.inner(matrix1, matrix2)"
   ]
  },
  {
   "cell_type": "markdown",
   "id": "534c6e35-f44e-4704-a2d2-f666366cd85d",
   "metadata": {
    "tags": []
   },
   "source": [
    "### ...and thus errors out if you transpose it yourself."
   ]
  },
  {
   "cell_type": "code",
   "execution_count": 37,
   "id": "7204cc0a-59e3-48ef-9d94-c6b46361df19",
   "metadata": {},
   "outputs": [
    {
     "ename": "ValueError",
     "evalue": "shapes (3,5) and (3,5) not aligned: 5 (dim 1) != 3 (dim 0)",
     "output_type": "error",
     "traceback": [
      "\u001b[0;31m---------------------------------------------------------------------------\u001b[0m",
      "\u001b[0;31mValueError\u001b[0m                                Traceback (most recent call last)",
      "\u001b[0;32m/var/folders/w1/v8x3p_k90rv3gff4rph9wkpc0000gn/T/ipykernel_49060/1413549307.py\u001b[0m in \u001b[0;36m<module>\u001b[0;34m\u001b[0m\n\u001b[0;32m----> 1\u001b[0;31m \u001b[0mnp\u001b[0m\u001b[0;34m.\u001b[0m\u001b[0minner\u001b[0m\u001b[0;34m(\u001b[0m\u001b[0mmatrix1\u001b[0m\u001b[0;34m,\u001b[0m \u001b[0mmatrix2\u001b[0m\u001b[0;34m.\u001b[0m\u001b[0mT\u001b[0m\u001b[0;34m)\u001b[0m\u001b[0;34m\u001b[0m\u001b[0;34m\u001b[0m\u001b[0m\n\u001b[0m",
      "\u001b[0;32m<__array_function__ internals>\u001b[0m in \u001b[0;36minner\u001b[0;34m(*args, **kwargs)\u001b[0m\n",
      "\u001b[0;31mValueError\u001b[0m: shapes (3,5) and (3,5) not aligned: 5 (dim 1) != 3 (dim 0)"
     ]
    }
   ],
   "source": [
    "np.inner(matrix1, matrix2.T)"
   ]
  },
  {
   "cell_type": "markdown",
   "id": "cb513245-25eb-4f56-8cd3-5f4a285b0be8",
   "metadata": {},
   "source": [
    "### Note that **only** the inner shape values have to match. Let's go back to our matrices that could not be multiplied using element-wise multiplication and check their shapes"
   ]
  },
  {
   "cell_type": "code",
   "execution_count": 41,
   "id": "82e055bc-2a92-4582-aa92-0fdb759af1cf",
   "metadata": {},
   "outputs": [
    {
     "data": {
      "text/plain": [
       "(3, 5)"
      ]
     },
     "execution_count": 41,
     "metadata": {},
     "output_type": "execute_result"
    }
   ],
   "source": [
    "matrix1.shape"
   ]
  },
  {
   "cell_type": "code",
   "execution_count": 42,
   "id": "9b49aef9-abdb-4d48-8219-37d07b06f58e",
   "metadata": {},
   "outputs": [
    {
     "data": {
      "text/plain": [
       "(6, 3)"
      ]
     },
     "execution_count": 42,
     "metadata": {},
     "output_type": "execute_result"
    }
   ],
   "source": [
    "matrix3.shape"
   ]
  },
  {
   "cell_type": "markdown",
   "id": "486f6435-1a96-468d-bf23-debf2e3ee45f",
   "metadata": {
    "tags": []
   },
   "source": [
    "### Can we perform an inner product calculation?"
   ]
  },
  {
   "cell_type": "code",
   "execution_count": 43,
   "id": "8274c9c4-6ad3-4094-90a4-d3dca204b0b5",
   "metadata": {},
   "outputs": [
    {
     "data": {
      "text/plain": [
       "array([[1.12231794, 0.31259747, 0.62456945, 0.67596985, 1.06709524],\n",
       "       [1.60634821, 0.65573287, 1.06030764, 0.89694799, 1.14768768],\n",
       "       [0.6019132 , 0.25106552, 0.36381867, 0.31093176, 0.39884923],\n",
       "       [0.6536041 , 0.18300775, 0.39074358, 0.40956565, 0.63459292],\n",
       "       [0.76275815, 0.37829063, 0.45235499, 0.33859244, 0.36365397],\n",
       "       [0.9791461 , 0.39500535, 0.59367142, 0.51809887, 0.68037524]])"
      ]
     },
     "execution_count": 43,
     "metadata": {},
     "output_type": "execute_result"
    }
   ],
   "source": [
    "matrix3 @ matrix1"
   ]
  },
  {
   "cell_type": "markdown",
   "id": "6a911e3d-49f8-4f23-8a0d-679945e74405",
   "metadata": {},
   "source": [
    "### Success! But does the order matter?"
   ]
  },
  {
   "cell_type": "code",
   "execution_count": 44,
   "id": "5eb68f42-4a38-4cfe-b58f-a6873cd803d0",
   "metadata": {},
   "outputs": [
    {
     "ename": "ValueError",
     "evalue": "matmul: Input operand 1 has a mismatch in its core dimension 0, with gufunc signature (n?,k),(k,m?)->(n?,m?) (size 6 is different from 5)",
     "output_type": "error",
     "traceback": [
      "\u001b[0;31m---------------------------------------------------------------------------\u001b[0m",
      "\u001b[0;31mValueError\u001b[0m                                Traceback (most recent call last)",
      "\u001b[0;32m/var/folders/w1/v8x3p_k90rv3gff4rph9wkpc0000gn/T/ipykernel_49060/692706321.py\u001b[0m in \u001b[0;36m<module>\u001b[0;34m\u001b[0m\n\u001b[0;32m----> 1\u001b[0;31m \u001b[0mmatrix1\u001b[0m \u001b[0;34m@\u001b[0m \u001b[0mmatrix3\u001b[0m\u001b[0;34m\u001b[0m\u001b[0;34m\u001b[0m\u001b[0m\n\u001b[0m",
      "\u001b[0;31mValueError\u001b[0m: matmul: Input operand 1 has a mismatch in its core dimension 0, with gufunc signature (n?,k),(k,m?)->(n?,m?) (size 6 is different from 5)"
     ]
    }
   ],
   "source": [
    "matrix1 @ matrix3"
   ]
  },
  {
   "cell_type": "markdown",
   "id": "14e79aac-735d-4570-93f2-7464535a71d8",
   "metadata": {},
   "source": [
    "### Yes, order matters. Changing the order changed the \"inner\" shape values, and thus this operation cannot be performed."
   ]
  },
  {
   "cell_type": "markdown",
   "id": "d022a609-fb05-44e0-a14a-ed5074044f89",
   "metadata": {
    "tags": []
   },
   "source": [
    "## Operations Within a Matrix"
   ]
  },
  {
   "cell_type": "markdown",
   "id": "ae5192c9-f5e7-4630-b386-af6310d903a8",
   "metadata": {
    "tags": []
   },
   "source": [
    "## What if we want to sum all of the values in matrix 1?"
   ]
  },
  {
   "cell_type": "code",
   "execution_count": 45,
   "id": "68ff3e4e-4cdd-415e-86ee-839037992171",
   "metadata": {},
   "outputs": [
    {
     "data": {
      "text/plain": [
       "7.203141667976959"
      ]
     },
     "execution_count": 45,
     "metadata": {},
     "output_type": "execute_result"
    }
   ],
   "source": [
    "np.sum(matrix1)"
   ]
  },
  {
   "cell_type": "markdown",
   "id": "b1f5dd14-0c83-42f1-9141-d9d26d782239",
   "metadata": {},
   "source": [
    "## What if we want to sum all of the **columns** for matrix1? \n",
    "\n",
    "### Answer - Sum across axis 0"
   ]
  },
  {
   "cell_type": "code",
   "execution_count": 49,
   "id": "a504fca2-af0f-408e-b329-3821fa632722",
   "metadata": {},
   "outputs": [
    {
     "data": {
      "text/plain": [
       "array([[0.48648143, 0.31265133, 0.54197392, 0.313235  , 0.21338059],\n",
       "       [0.69665406, 0.0722885 , 0.301989  , 0.46795963, 0.89079005],\n",
       "       [0.99599151, 0.50817115, 0.56234987, 0.41278708, 0.42643855]])"
      ]
     },
     "execution_count": 49,
     "metadata": {},
     "output_type": "execute_result"
    }
   ],
   "source": [
    "matrix1"
   ]
  },
  {
   "cell_type": "code",
   "execution_count": 50,
   "id": "fb53c05d-506a-4c8e-b6b8-0fe09d343952",
   "metadata": {},
   "outputs": [
    {
     "data": {
      "text/plain": [
       "array([2.179127  , 0.89311098, 1.40631279, 1.19398171, 1.53060919])"
      ]
     },
     "execution_count": 50,
     "metadata": {},
     "output_type": "execute_result"
    }
   ],
   "source": [
    "np.sum(matrix1, axis = 0)"
   ]
  },
  {
   "cell_type": "markdown",
   "id": "d7dbecda-44e1-4b7c-aa3a-c17e7b296474",
   "metadata": {},
   "source": [
    "#### Note I have five columns and I get five results in return."
   ]
  },
  {
   "cell_type": "markdown",
   "id": "c4233498-8a4d-4750-9491-6e307b28f252",
   "metadata": {},
   "source": [
    "## What if we want to sum each of the rows instead? \n",
    "\n",
    "### Sum across axis 1"
   ]
  },
  {
   "cell_type": "code",
   "execution_count": 51,
   "id": "d376fdd5-be57-41b7-a785-3cbddcee56d4",
   "metadata": {},
   "outputs": [
    {
     "data": {
      "text/plain": [
       "array([1.86772227, 2.42968124, 2.90573816])"
      ]
     },
     "execution_count": 51,
     "metadata": {},
     "output_type": "execute_result"
    }
   ],
   "source": [
    "np.sum(matrix1, axis = 1)"
   ]
  },
  {
   "cell_type": "markdown",
   "id": "2fe1f303-6e93-4b07-b3ad-6c0578d3ae52",
   "metadata": {},
   "source": [
    "#### Note I have three rows and I get three results in return."
   ]
  },
  {
   "cell_type": "markdown",
   "id": "b7103b0d-476a-4c56-823d-833c3c047bf7",
   "metadata": {},
   "source": [
    "## Another common operation: products within a matrix"
   ]
  },
  {
   "cell_type": "code",
   "execution_count": 52,
   "id": "e4d155c1-06f1-4c97-8dc0-29fe8236ab41",
   "metadata": {},
   "outputs": [
    {
     "data": {
      "text/plain": [
       "1.7500326994134286e-06"
      ]
     },
     "execution_count": 52,
     "metadata": {},
     "output_type": "execute_result"
    }
   ],
   "source": [
    "np.prod(matrix1)"
   ]
  },
  {
   "cell_type": "code",
   "execution_count": 53,
   "id": "1d1583a3-d1ee-4d03-8382-f8ba841443b5",
   "metadata": {},
   "outputs": [
    {
     "data": {
      "text/plain": [
       "array([0.33755075, 0.01148522, 0.0920399 , 0.06050688, 0.08105629])"
      ]
     },
     "execution_count": 53,
     "metadata": {},
     "output_type": "execute_result"
    }
   ],
   "source": [
    "np.prod(matrix1, axis = 0)"
   ]
  },
  {
   "cell_type": "code",
   "execution_count": 54,
   "id": "491ba48a-c088-4987-8577-aa465acaba70",
   "metadata": {},
   "outputs": [
    {
     "data": {
      "text/plain": [
       "array([0.00550973, 0.00633959, 0.05010197])"
      ]
     },
     "execution_count": 54,
     "metadata": {},
     "output_type": "execute_result"
    }
   ],
   "source": [
    "np.prod(matrix1, axis = 1)"
   ]
  },
  {
   "cell_type": "code",
   "execution_count": null,
   "id": "b0cf25d9-b10c-4c1e-950e-622a863d876e",
   "metadata": {},
   "outputs": [],
   "source": []
  },
  {
   "cell_type": "code",
   "execution_count": null,
   "id": "7461905c-7606-43f4-9ace-82539e103bec",
   "metadata": {},
   "outputs": [],
   "source": []
  },
  {
   "cell_type": "code",
   "execution_count": null,
   "id": "8c668821-e852-467f-8a6c-866bc0f9b1d3",
   "metadata": {},
   "outputs": [],
   "source": []
  }
 ],
 "metadata": {
  "kernelspec": {
   "display_name": "Python 3 (ipykernel)",
   "language": "python",
   "name": "python3"
  },
  "language_info": {
   "codemirror_mode": {
    "name": "ipython",
    "version": 3
   },
   "file_extension": ".py",
   "mimetype": "text/x-python",
   "name": "python",
   "nbconvert_exporter": "python",
   "pygments_lexer": "ipython3",
   "version": "3.9.7"
  }
 },
 "nbformat": 4,
 "nbformat_minor": 5
}
