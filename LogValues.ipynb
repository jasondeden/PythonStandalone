{
 "cells": [
  {
   "cell_type": "code",
   "execution_count": 1,
   "metadata": {},
   "outputs": [],
   "source": [
    "import numpy as np"
   ]
  },
  {
   "cell_type": "markdown",
   "metadata": {},
   "source": [
    "### Generate 30 fake observations of probabilities of 100 different features"
   ]
  },
  {
   "cell_type": "code",
   "execution_count": 29,
   "metadata": {},
   "outputs": [],
   "source": [
    "x = np.random.rand(30,100)"
   ]
  },
  {
   "cell_type": "markdown",
   "metadata": {},
   "source": [
    "### Take a look at our \"data\""
   ]
  },
  {
   "cell_type": "code",
   "execution_count": 30,
   "metadata": {},
   "outputs": [
    {
     "data": {
      "text/plain": [
       "array([[0.99492465, 0.22095045, 0.25813016, ..., 0.3621739 , 0.23108548,\n",
       "        0.12255272],\n",
       "       [0.63811856, 0.82901642, 0.21632034, ..., 0.26698813, 0.20210668,\n",
       "        0.05375498],\n",
       "       [0.21408718, 0.35322647, 0.49409748, ..., 0.68262781, 0.54424569,\n",
       "        0.93023409],\n",
       "       ...,\n",
       "       [0.47249648, 0.0292927 , 0.96718061, ..., 0.60663064, 0.92074738,\n",
       "        0.78785331],\n",
       "       [0.07200287, 0.7142433 , 0.82390776, ..., 0.88286222, 0.09071952,\n",
       "        0.92917339],\n",
       "       [0.93173402, 0.03685549, 0.41983396, ..., 0.2528376 , 0.22912984,\n",
       "        0.35282777]])"
      ]
     },
     "execution_count": 30,
     "metadata": {},
     "output_type": "execute_result"
    }
   ],
   "source": [
    "x"
   ]
  },
  {
   "cell_type": "markdown",
   "metadata": {},
   "source": [
    "### Now let's calculate a probility with this data using chain rule - i.e. multiply the probability of each feature together to get a total probability that our data matches a certain label. (Completely fictitious scenario here, but something you might do in real life in a machine learning algorithm.)"
   ]
  },
  {
   "cell_type": "code",
   "execution_count": 35,
   "metadata": {},
   "outputs": [
    {
     "data": {
      "text/plain": [
       "array([8.59448242e-42, 2.82899442e-38, 3.92391137e-40, 3.44035677e-40,\n",
       "       8.25180649e-41, 5.57610986e-40, 1.65642970e-41, 8.56778609e-42,\n",
       "       7.32080243e-43, 1.86083195e-47, 1.58973469e-45, 1.28413097e-40,\n",
       "       7.36936006e-43, 5.18968616e-42, 1.95749064e-39, 2.17969107e-44,\n",
       "       1.51411730e-47, 1.04168833e-47, 2.13527862e-42, 4.33600948e-48,\n",
       "       2.55300039e-36, 3.17857492e-39, 1.48198325e-42, 4.84412025e-53,\n",
       "       3.95888512e-45, 3.72340823e-44, 9.08788657e-41, 3.18725998e-48,\n",
       "       8.32885538e-43, 4.56648639e-49])"
      ]
     },
     "execution_count": 35,
     "metadata": {},
     "output_type": "execute_result"
    }
   ],
   "source": [
    "np.prod(x, axis=1)"
   ]
  },
  {
   "cell_type": "markdown",
   "metadata": {},
   "source": [
    "### Notice how small our values are here - when I ran this, the values were preceded by between 36 and 53 zeroes (very, very small). This is what happened with only 100 features. What happens when we have more?"
   ]
  },
  {
   "cell_type": "code",
   "execution_count": 48,
   "metadata": {},
   "outputs": [],
   "source": [
    "y = np.random.rand(30,900)"
   ]
  },
  {
   "cell_type": "code",
   "execution_count": 49,
   "metadata": {},
   "outputs": [
    {
     "data": {
      "text/plain": [
       "array([[0.46091631, 0.36235332, 0.56174749, ..., 0.34393905, 0.53237969,\n",
       "        0.04561387],\n",
       "       [0.72279088, 0.95532394, 0.52931943, ..., 0.03563779, 0.27869188,\n",
       "        0.23943472],\n",
       "       [0.10886475, 0.1345471 , 0.49532917, ..., 0.47744018, 0.39132254,\n",
       "        0.58712641],\n",
       "       ...,\n",
       "       [0.27241278, 0.58220484, 0.22602247, ..., 0.44082575, 0.67906181,\n",
       "        0.76278196],\n",
       "       [0.50842952, 0.63971033, 0.05667392, ..., 0.15918026, 0.23386718,\n",
       "        0.65989332],\n",
       "       [0.29019685, 0.85948612, 0.73707668, ..., 0.09231485, 0.53978581,\n",
       "        0.24006832]])"
      ]
     },
     "execution_count": 49,
     "metadata": {},
     "output_type": "execute_result"
    }
   ],
   "source": [
    "y"
   ]
  },
  {
   "cell_type": "code",
   "execution_count": 50,
   "metadata": {},
   "outputs": [
    {
     "data": {
      "text/plain": [
       "array([0., 0., 0., 0., 0., 0., 0., 0., 0., 0., 0., 0., 0., 0., 0., 0., 0.,\n",
       "       0., 0., 0., 0., 0., 0., 0., 0., 0., 0., 0., 0., 0.])"
      ]
     },
     "execution_count": 50,
     "metadata": {},
     "output_type": "execute_result"
    }
   ],
   "source": [
    "np.prod(y, axis=1)"
   ]
  },
  {
   "cell_type": "markdown",
   "metadata": {},
   "source": [
    "### Note that with random probabilities, when we get to 900 features being evaluated, the numbers are so small the computer reports them as zero. This is a problem when dealing with large, complex data. The solution? Log values! Let's take a look at what log does."
   ]
  },
  {
   "cell_type": "code",
   "execution_count": 52,
   "metadata": {},
   "outputs": [
    {
     "data": {
      "text/plain": [
       "-8.294049640102028"
      ]
     },
     "execution_count": 52,
     "metadata": {},
     "output_type": "execute_result"
    }
   ],
   "source": [
    "np.log(.00025)"
   ]
  },
  {
   "cell_type": "markdown",
   "metadata": {},
   "source": [
    "### Note that the log of a pretty small number ends up being a large negative number. "
   ]
  },
  {
   "cell_type": "code",
   "execution_count": 54,
   "metadata": {},
   "outputs": [
    {
     "data": {
      "text/plain": [
       "-29.52814110081443"
      ]
     },
     "execution_count": 54,
     "metadata": {},
     "output_type": "execute_result"
    }
   ],
   "source": [
    "np.log(.00000000000015)"
   ]
  },
  {
   "cell_type": "markdown",
   "metadata": {},
   "source": [
    "### As the number gets smaller, the log value just converts into a larger, more negative value. We can multiply as many of these as we want without them ever being too small to evaluate."
   ]
  },
  {
   "cell_type": "markdown",
   "metadata": {},
   "source": [
    "### Log values also have some mathematical properties that make them easier to work with (and code) as well. For example, log(xy) - or the log of x times y - is actually equal to log(x) + log(y). So when you're doing multiplication a la the chain rule, with logs all of that multiplication converts to addition. Whereas in our example above for y, we used np.prod to multiply across the 900 different features, if we convert them to logs first, then we use np.sum instead of np.prod to get us to the answer. Example:"
   ]
  },
  {
   "cell_type": "code",
   "execution_count": 56,
   "metadata": {},
   "outputs": [
    {
     "data": {
      "text/plain": [
       "array([-891.21099345, -929.46892397, -911.86458638, -845.46286087,\n",
       "       -886.24867831, -912.22258844, -904.86232699, -897.66393888,\n",
       "       -848.17801184, -938.87641622, -871.22172113, -923.08790726,\n",
       "       -874.580211  , -836.3713478 , -856.29945082, -901.5391768 ,\n",
       "       -888.14815201, -833.88300569, -861.19737342, -914.27544507,\n",
       "       -865.87173013, -951.37417972, -886.90123542, -902.09150429,\n",
       "       -892.55532516, -909.80394593, -942.3121585 , -914.14800378,\n",
       "       -954.79831311, -867.50551094])"
      ]
     },
     "execution_count": 56,
     "metadata": {},
     "output_type": "execute_result"
    }
   ],
   "source": [
    "np.sum(np.log(y), axis=1)"
   ]
  },
  {
   "cell_type": "markdown",
   "metadata": {},
   "source": [
    "### So we're dealing with numbers smaller than our computer can handle, but because they're converted to log values, we can still use them. \n",
    "\n",
    "### Note: You can also do log division - i.e. log(x/y) = log(x) - log(y)."
   ]
  },
  {
   "cell_type": "markdown",
   "metadata": {},
   "source": [
    "### But wait, how can we know for sure that this log addition is actually the equivalent of our multiplication of non-log probabilities? Well, the opposite of taking the log is exponentiation. So it follows, then, that if we follow our log math example, and then take the exponent, we should be able to come up with the same number as taking the product of the non-log values. Let's go back to our x variable, where we had only 100 features so the numbers were still readable."
   ]
  },
  {
   "cell_type": "code",
   "execution_count": 58,
   "metadata": {},
   "outputs": [
    {
     "data": {
      "text/plain": [
       "(30, 100)"
      ]
     },
     "execution_count": 58,
     "metadata": {},
     "output_type": "execute_result"
    }
   ],
   "source": [
    "x.shape"
   ]
  },
  {
   "cell_type": "code",
   "execution_count": 59,
   "metadata": {},
   "outputs": [
    {
     "data": {
      "text/plain": [
       "array([[0.99492465, 0.22095045, 0.25813016, ..., 0.3621739 , 0.23108548,\n",
       "        0.12255272],\n",
       "       [0.63811856, 0.82901642, 0.21632034, ..., 0.26698813, 0.20210668,\n",
       "        0.05375498],\n",
       "       [0.21408718, 0.35322647, 0.49409748, ..., 0.68262781, 0.54424569,\n",
       "        0.93023409],\n",
       "       ...,\n",
       "       [0.47249648, 0.0292927 , 0.96718061, ..., 0.60663064, 0.92074738,\n",
       "        0.78785331],\n",
       "       [0.07200287, 0.7142433 , 0.82390776, ..., 0.88286222, 0.09071952,\n",
       "        0.92917339],\n",
       "       [0.93173402, 0.03685549, 0.41983396, ..., 0.2528376 , 0.22912984,\n",
       "        0.35282777]])"
      ]
     },
     "execution_count": 59,
     "metadata": {},
     "output_type": "execute_result"
    }
   ],
   "source": [
    "x"
   ]
  },
  {
   "cell_type": "markdown",
   "metadata": {},
   "source": [
    "### Let's run this through the same procedure that we used with y and generate the probabilities using the log method."
   ]
  },
  {
   "cell_type": "code",
   "execution_count": 63,
   "metadata": {},
   "outputs": [],
   "source": [
    "logx = np.sum(np.log(x), axis=1)"
   ]
  },
  {
   "cell_type": "code",
   "execution_count": 64,
   "metadata": {},
   "outputs": [
    {
     "data": {
      "text/plain": [
       "array([ -94.55745349,  -86.45831221,  -90.73631477,  -90.86782854,\n",
       "        -92.29555667,  -90.38491234,  -93.90132431,  -94.56056454,\n",
       "        -97.02043906, -107.6004757 , -103.15276204,  -91.85332152,\n",
       "        -97.01382813,  -95.06190068,  -89.12915526, -100.53456094,\n",
       "       -107.80666674, -108.18065658,  -95.94997677, -109.05713001,\n",
       "        -81.95579406,  -88.64438567,  -96.31519268, -120.45924428,\n",
       "       -102.24036673,  -99.99910465,  -92.19904643, -109.36492286,\n",
       "        -96.89143296, -111.30792549])"
      ]
     },
     "execution_count": 64,
     "metadata": {},
     "output_type": "execute_result"
    }
   ],
   "source": [
    "logx"
   ]
  },
  {
   "cell_type": "markdown",
   "metadata": {},
   "source": [
    "### Let's remember what our original chain rule prod of x got us:"
   ]
  },
  {
   "cell_type": "code",
   "execution_count": 62,
   "metadata": {},
   "outputs": [
    {
     "data": {
      "text/plain": [
       "array([8.59448242e-42, 2.82899442e-38, 3.92391137e-40, 3.44035677e-40,\n",
       "       8.25180649e-41, 5.57610986e-40, 1.65642970e-41, 8.56778609e-42,\n",
       "       7.32080243e-43, 1.86083195e-47, 1.58973469e-45, 1.28413097e-40,\n",
       "       7.36936006e-43, 5.18968616e-42, 1.95749064e-39, 2.17969107e-44,\n",
       "       1.51411730e-47, 1.04168833e-47, 2.13527862e-42, 4.33600948e-48,\n",
       "       2.55300039e-36, 3.17857492e-39, 1.48198325e-42, 4.84412025e-53,\n",
       "       3.95888512e-45, 3.72340823e-44, 9.08788657e-41, 3.18725998e-48,\n",
       "       8.32885538e-43, 4.56648639e-49])"
      ]
     },
     "execution_count": 62,
     "metadata": {},
     "output_type": "execute_result"
    }
   ],
   "source": [
    "np.prod(x, axis=1)"
   ]
  },
  {
   "cell_type": "markdown",
   "metadata": {},
   "source": [
    "### Now let's see if the exponent of our log math equals the same thing as our product of the non-log numbers:"
   ]
  },
  {
   "cell_type": "code",
   "execution_count": 65,
   "metadata": {},
   "outputs": [
    {
     "data": {
      "text/plain": [
       "array([8.59448242e-42, 2.82899442e-38, 3.92391137e-40, 3.44035677e-40,\n",
       "       8.25180649e-41, 5.57610986e-40, 1.65642970e-41, 8.56778609e-42,\n",
       "       7.32080243e-43, 1.86083195e-47, 1.58973469e-45, 1.28413097e-40,\n",
       "       7.36936006e-43, 5.18968616e-42, 1.95749064e-39, 2.17969107e-44,\n",
       "       1.51411730e-47, 1.04168833e-47, 2.13527862e-42, 4.33600948e-48,\n",
       "       2.55300039e-36, 3.17857492e-39, 1.48198325e-42, 4.84412025e-53,\n",
       "       3.95888512e-45, 3.72340823e-44, 9.08788657e-41, 3.18725998e-48,\n",
       "       8.32885538e-43, 4.56648639e-49])"
      ]
     },
     "execution_count": 65,
     "metadata": {},
     "output_type": "execute_result"
    }
   ],
   "source": [
    "np.exp(logx)"
   ]
  },
  {
   "cell_type": "markdown",
   "metadata": {},
   "source": [
    "### Perfect! So now we see how using log can simplify the maths (using sums vs. products, or in the case of division, subtraction vs. division...) and allow us to work with significantly smaller real values than our computers could handle without taking the log."
   ]
  },
  {
   "cell_type": "code",
   "execution_count": null,
   "metadata": {},
   "outputs": [],
   "source": []
  },
  {
   "cell_type": "code",
   "execution_count": null,
   "metadata": {},
   "outputs": [],
   "source": []
  },
  {
   "cell_type": "code",
   "execution_count": null,
   "metadata": {},
   "outputs": [],
   "source": []
  }
 ],
 "metadata": {
  "kernelspec": {
   "display_name": "Python 3",
   "language": "python",
   "name": "python3"
  },
  "language_info": {
   "codemirror_mode": {
    "name": "ipython",
    "version": 3
   },
   "file_extension": ".py",
   "mimetype": "text/x-python",
   "name": "python",
   "nbconvert_exporter": "python",
   "pygments_lexer": "ipython3",
   "version": "3.6.7"
  }
 },
 "nbformat": 4,
 "nbformat_minor": 4
}
