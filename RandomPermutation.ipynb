{
 "cells": [
  {
   "cell_type": "markdown",
   "id": "be797746-ee07-48fa-9f47-cef17ae31099",
   "metadata": {},
   "source": [
    "# np.random.permutation experimentation"
   ]
  },
  {
   "cell_type": "code",
   "execution_count": 2,
   "id": "45f998b5-5347-4b6f-b299-f5aff8e7ef2a",
   "metadata": {},
   "outputs": [],
   "source": [
    "import numpy as np"
   ]
  },
  {
   "cell_type": "markdown",
   "id": "2c3a07ce-df62-4d69-b6fa-de8de39bff2c",
   "metadata": {},
   "source": [
    "## First, let's look at how we normally process a for loop over an array"
   ]
  },
  {
   "cell_type": "code",
   "execution_count": 11,
   "id": "934749ee-986b-45aa-8929-157ff4e63391",
   "metadata": {},
   "outputs": [
    {
     "name": "stdout",
     "output_type": "stream",
     "text": [
      "0\n",
      "1\n",
      "2\n",
      "3\n",
      "4\n"
     ]
    }
   ],
   "source": [
    "for i in range(0,5):\n",
    "    print(i)"
   ]
  },
  {
   "cell_type": "markdown",
   "id": "01400b4d-2c0a-45a0-8dc4-efa435f708ae",
   "metadata": {},
   "source": [
    "## This is fine if you always want to evaluate something in numerical order. However, what if you want to shuffle the order and go through this multiple times? One way to do this is np.random.permutation(). Let's take a look at how it works:"
   ]
  },
  {
   "cell_type": "code",
   "execution_count": 3,
   "id": "45a9b667-5bb9-430f-ba76-5d89c5b7492a",
   "metadata": {
    "tags": []
   },
   "outputs": [
    {
     "data": {
      "text/plain": [
       "array([0, 3, 2, 1, 4])"
      ]
     },
     "execution_count": 3,
     "metadata": {},
     "output_type": "execute_result"
    }
   ],
   "source": [
    "np.random.permutation(5)"
   ]
  },
  {
   "cell_type": "markdown",
   "id": "6266f515-6f68-4f58-88f8-fa1040767d96",
   "metadata": {},
   "source": [
    "## If you execute this line of code multiple times, each time you will get a differently ordered array. To prove this out, let's look at a for loop that executes this code and prints each array value in the order given, and then repeats this five tiems."
   ]
  },
  {
   "cell_type": "code",
   "execution_count": 12,
   "id": "6a524cc4-283f-494e-978e-f5bdfba946e7",
   "metadata": {},
   "outputs": [
    {
     "name": "stdout",
     "output_type": "stream",
     "text": [
      "1\n",
      "0\n",
      "3\n",
      "2\n",
      "4\n",
      "*******\n",
      "2\n",
      "0\n",
      "1\n",
      "4\n",
      "3\n",
      "*******\n",
      "0\n",
      "4\n",
      "3\n",
      "2\n",
      "1\n",
      "*******\n",
      "0\n",
      "1\n",
      "4\n",
      "2\n",
      "3\n",
      "*******\n",
      "0\n",
      "4\n",
      "3\n",
      "2\n",
      "1\n",
      "*******\n"
     ]
    }
   ],
   "source": [
    "x = 0\n",
    "\n",
    "while x < 5:\n",
    "    for i in np.random.permutation(5):\n",
    "        print(i)\n",
    "    x += 1\n",
    "    print(\"*******\")"
   ]
  },
  {
   "cell_type": "markdown",
   "id": "bf1ddcb5-ba0e-4c3e-9646-2d0c82c366f9",
   "metadata": {},
   "source": [
    "## As you can see, the printed array is evaluated in a different order each time."
   ]
  },
  {
   "cell_type": "markdown",
   "id": "c68966f9-4da9-4b80-aba4-d29e555cd3ce",
   "metadata": {},
   "source": [
    "# So you can use np.random.permutation() instead of range(0,n) to evaluate data and labels in a different order over multiple iterations."
   ]
  },
  {
   "cell_type": "code",
   "execution_count": null,
   "id": "3abb74cd-68ca-4fe0-9aa1-78ac6154ae40",
   "metadata": {},
   "outputs": [],
   "source": []
  }
 ],
 "metadata": {
  "kernelspec": {
   "display_name": "Python 3 (ipykernel)",
   "language": "python",
   "name": "python3"
  },
  "language_info": {
   "codemirror_mode": {
    "name": "ipython",
    "version": 3
   },
   "file_extension": ".py",
   "mimetype": "text/x-python",
   "name": "python",
   "nbconvert_exporter": "python",
   "pygments_lexer": "ipython3",
   "version": "3.9.7"
  }
 },
 "nbformat": 4,
 "nbformat_minor": 5
}
